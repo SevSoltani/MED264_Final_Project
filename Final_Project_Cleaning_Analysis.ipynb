{
 "cells": [
  {
   "cell_type": "code",
   "execution_count": 1,
   "metadata": {},
   "outputs": [],
   "source": [
    "import pandas as pd\n",
    "pd.options.mode.chained_assignment = None\n",
    "import os\n",
    "from datetime import date\n",
    "import numpy as np\n",
    "from sklearn.preprocessing import OneHotEncoder, OrdinalEncoder\n",
    "import itertools\n",
    "from functools import reduce\n",
    "from sklearn.model_selection import train_test_split\n",
    "from sklearn.linear_model import LogisticRegression\n",
    "from sklearn import linear_model\n",
    "from sklearn.feature_selection import RFE\n",
    "from sklearn import metrics"
   ]
  },
  {
   "cell_type": "code",
   "execution_count": 3,
   "metadata": {},
   "outputs": [
    {
     "name": "stderr",
     "output_type": "stream",
     "text": [
      "Copying gs://fc-secure-b41a20d8-cc27-4b00-94b8-ccd4711ca733/data/Covid_Q.csv...\n",
      "\\ [1 files][  4.6 GiB/  4.6 GiB]   48.1 MiB/s                                   \n",
      "Operation completed over 1 objects/4.6 GiB.                                      \n"
     ]
    },
    {
     "name": "stdout",
     "output_type": "stream",
     "text": [
      "[INFO] Covid_Q.csv is successfully downloaded into your working space\n"
     ]
    },
    {
     "name": "stderr",
     "output_type": "stream",
     "text": [
      "Copying gs://fc-secure-b41a20d8-cc27-4b00-94b8-ccd4711ca733/data/Overall_Health_Q.csv...\n",
      "/ [1 files][332.6 MiB/332.6 MiB]                                                \n",
      "Operation completed over 1 objects/332.6 MiB.                                    \n"
     ]
    },
    {
     "name": "stdout",
     "output_type": "stream",
     "text": [
      "[INFO] Overall_Health_Q.csv is successfully downloaded into your working space\n"
     ]
    },
    {
     "name": "stderr",
     "output_type": "stream",
     "text": [
      "Copying gs://fc-secure-b41a20d8-cc27-4b00-94b8-ccd4711ca733/data/Personal_Medical_History_Q.csv...\n",
      "/ [1 files][862.4 MiB/862.4 MiB]   45.3 MiB/s                                   \n",
      "Operation completed over 1 objects/862.4 MiB.                                    \n"
     ]
    },
    {
     "name": "stdout",
     "output_type": "stream",
     "text": [
      "[INFO] Personal_Medical_History_Q.csv is successfully downloaded into your working space\n"
     ]
    },
    {
     "name": "stderr",
     "output_type": "stream",
     "text": [
      "Copying gs://fc-secure-b41a20d8-cc27-4b00-94b8-ccd4711ca733/data/Lifestyle_Q.csv...\n",
      "\\ [1 files][255.4 MiB/255.4 MiB]                                                \n",
      "Operation completed over 1 objects/255.4 MiB.                                    \n"
     ]
    },
    {
     "name": "stdout",
     "output_type": "stream",
     "text": [
      "[INFO] Lifestyle_Q.csv is successfully downloaded into your working space\n"
     ]
    },
    {
     "name": "stderr",
     "output_type": "stream",
     "text": [
      "Copying gs://fc-secure-b41a20d8-cc27-4b00-94b8-ccd4711ca733/data/The_Basics_Q.csv...\n",
      "/ [1 files][322.2 MiB/322.2 MiB]                                                \n",
      "Operation completed over 1 objects/322.2 MiB.                                    \n"
     ]
    },
    {
     "name": "stdout",
     "output_type": "stream",
     "text": [
      "[INFO] The_Basics_Q.csv is successfully downloaded into your working space\n"
     ]
    },
    {
     "name": "stderr",
     "output_type": "stream",
     "text": [
      "Copying gs://fc-secure-b41a20d8-cc27-4b00-94b8-ccd4711ca733/data/Health_Care_Access_Utilization_Q.csv...\n",
      "/ [1 files][  134.0 B/  134.0 B]                                                \n",
      "Operation completed over 1 objects/134.0 B.                                      \n"
     ]
    },
    {
     "name": "stdout",
     "output_type": "stream",
     "text": [
      "[INFO] Health_Care_Access_Utilization_Q.csv is successfully downloaded into your working space\n"
     ]
    },
    {
     "name": "stderr",
     "output_type": "stream",
     "text": [
      "Copying gs://fc-secure-b41a20d8-cc27-4b00-94b8-ccd4711ca733/data/Demographic_Q.csv...\n",
      "/ [1 files][ 15.9 MiB/ 15.9 MiB]                                                \n",
      "Operation completed over 1 objects/15.9 MiB.                                     \n"
     ]
    },
    {
     "name": "stdout",
     "output_type": "stream",
     "text": [
      "[INFO] Demographic_Q.csv is successfully downloaded into your working space\n"
     ]
    }
   ],
   "source": [
    "# This snippet assumes you run setup first\n",
    "\n",
    "# This code copies file in your Google Bucket and loads it into a dataframe\n",
    "\n",
    "\n",
    "Covid_Q_filename = 'Covid_Q.csv'\n",
    "Overall_Health_Q_filename = 'Overall_Health_Q.csv'\n",
    "Personal_Medical_History_Q_filename = 'Personal_Medical_History_Q.csv'\n",
    "Lifestyle_Q_filename = 'Lifestyle_Q.csv'\n",
    "The_Basics_Q_filename = 'The_Basics_Q.csv'\n",
    "Health_Care_Access_Utilization_Q_filename = 'Health_Care_Access_Utilization_Q.csv'\n",
    "Demographic_Q_filename = 'Demographic_Q.csv'\n",
    "\n",
    "all_datasets = [Covid_Q_filename,Overall_Health_Q_filename,Personal_Medical_History_Q_filename,Lifestyle_Q_filename,\n",
    "               The_Basics_Q_filename,Health_Care_Access_Utilization_Q_filename,Demographic_Q_filename]\n",
    "########################################################################\n",
    "##\n",
    "################# DON'T CHANGE FROM HERE ###############################\n",
    "##\n",
    "########################################################################\n",
    "\n",
    "# get the bucket name\n",
    "my_bucket = os.getenv('WORKSPACE_BUCKET')\n",
    "\n",
    "# copy csv file from the bucket to the current working space\n",
    "\n",
    "for dataset_name in all_datasets:\n",
    "    os.system(f\"gsutil cp '{my_bucket}/data/{dataset_name}' .\")\n",
    "    print(f'[INFO] {dataset_name} is successfully downloaded into your working space')\n",
    "\n",
    "\n",
    "# save dataframe in a csv file in the same workspace as the notebook\n",
    "Covid_Q = pd.read_csv('Covid_Q.csv')\n",
    "Overall_Health_Q = pd.read_csv('Overall_Health_Q.csv')\n",
    "Personal_Medical_History_Q = pd.read_csv('Personal_Medical_History_Q.csv')\n",
    "Lifestyle_Q = pd.read_csv('Lifestyle_Q.csv')\n",
    "The_Basics_Q = pd.read_csv('The_Basics_Q.csv')\n",
    "Health_Care_Access_Utilization_Q = pd.read_csv('Health_Care_Access_Utilization_Q.csv')\n",
    "Demographic_Q = pd.read_csv('Demographic_Q.csv')\n"
   ]
  },
  {
   "cell_type": "code",
   "execution_count": 4,
   "metadata": {
    "code_folding": []
   },
   "outputs": [],
   "source": [
    "# The questions we want to look at in our Final Project Proposal\n",
    "hesitancy = ['When a COVID-19 vaccine is available, how likely are you to want to receive vaccination?']\n",
    "death = ['Do you personally know someone who has died of COVID-19?']\n",
    "adverse_exp = ['In the past month, have you experienced the following as a result of COVID-19? Select all that apply.',\n",
    "              'In the past month, have the following behaviors increased in your household? Select all that apply.']\n",
    "social_dist = ['Choose the answer that is true for you in the past month. I am unhappy being so withdrawn.', \n",
    "               'In the past month, have recommendations for socially distancing caused stress for you?']\n",
    "social_habits = ['Thinking about these activities in the last 5 days, my social interaction with people outside my home was.',\n",
    "                'Choose the answer that is true for you in the past month. I lack companionship.',\n",
    "                'Choose the answer that is true for you in the past month. I can find companionship when I want it.']\n",
    "\n",
    "# Putting all these questions in a single list so we can single them out\n",
    "all_Q = itertools.chain(hesitancy,death,adverse_exp,social_dist,social_habits)\n",
    "all_Q = list(all_Q)"
   ]
  },
  {
   "cell_type": "code",
   "execution_count": 5,
   "metadata": {},
   "outputs": [],
   "source": [
    "# All the questions in all_Q are from the COPE survey, so they must be contained in Covid_Q\n",
    "# covid_df keep only the questions from the whole COPE survey that are the ones we want (all_Q)\n",
    "covid_df = Covid_Q[np.isin(Covid_Q['question'], all_Q)]\n",
    "\n",
    "# Let's keep only these variables\n",
    "covid_simplified = covid_df[['answer','question','person_id','survey_datetime']]\n",
    "\n",
    "# The hesitancy question, AKA the label for our dataset\n",
    "covid_label = covid_simplified[covid_simplified['question'] == hesitancy[0]]\n",
    "\n",
    "# Other covid-related questions\n",
    "covid_q1 = covid_simplified[covid_simplified['question'] == death[0]]\n",
    "covid_q2 = covid_simplified[covid_simplified['question'] == adverse_exp[0]]\n",
    "covid_q3 = covid_simplified[covid_simplified['question'] == adverse_exp[1]]\n",
    "covid_q4 = covid_simplified[covid_simplified['question'] == social_dist[0]]\n",
    "covid_q5 = covid_simplified[covid_simplified['question'] == social_dist[1]]\n",
    "covid_q6 = covid_simplified[covid_simplified['question'] == social_habits[0]]\n",
    "covid_q7 = covid_simplified[covid_simplified['question'] == social_habits[1]]\n",
    "covid_q8 = covid_simplified[covid_simplified['question'] == social_habits[2]]"
   ]
  },
  {
   "cell_type": "code",
   "execution_count": 6,
   "metadata": {},
   "outputs": [],
   "source": [
    "# For Q1, the death question, a binary response\n",
    "def Binarize(binary_response): \n",
    "    if binary_response == 'PMI: Skip':\n",
    "        return np.nan\n",
    "    else: # returns 1 if binary_response = 'Yes', and returns 0 if 'No'\n",
    "        return (binary_response == 'Yes')\n",
    "    \n",
    "# For Q2, kinda complicated since they can pick multiple answers\n",
    "def Pick_All_That_Apply_Q2(df):\n",
    "    # A dictionary that shows which indices in the df have a certain response\n",
    "    # e.g. {'Did not have a regular place to sleep or stay' : 1,2,4,6,7,8,11...}\n",
    "    grouped_dict = df.groupby('answer').groups\n",
    "    all_responses = []\n",
    "    for index, row in df.iterrows():\n",
    "        no_home_ans = index in grouped_dict['Did not have a regular place to sleep or stay']\n",
    "        no_med_ans = index in grouped_dict['Did not have enough money to pay for medications']\n",
    "        no_food_ans = index in grouped_dict['Not enough money to pay for food']\n",
    "        no_gas_ans = index in grouped_dict['Not enough money to pay for gas']\n",
    "        no_rent_ans = index in grouped_dict['Not enough money to pay rent']\n",
    "        no_hardship_ans = index in grouped_dict['None of the above (if selected, no other response options are available']\n",
    "        responses = [int(x) for x in [no_home_ans,no_med_ans,no_food_ans,no_gas_ans,no_rent_ans,no_hardship_ans]]\n",
    "        all_responses.append(responses)\n",
    "        \n",
    "    col_names = ['no_home','no_meds','no_food','no_gas','no_rent','no_hardship']\n",
    "    new_df = pd.DataFrame(all_responses,columns=col_names)\n",
    "    new_df['person_id'] = df['person_id'].values\n",
    "    new_df['survey_datetime'] = df['survey_datetime'].values\n",
    "    \n",
    "    # Because participants choose all that apply, there are basically multiple entries with the\n",
    "    # same person_id and survey_datetime but different answers. This merges those rows by basically\n",
    "    # adding them up (e.g. [1 0 0 0 0 0] + [0 0 1 0 0 0] = [1 0 1 0 0 0])\n",
    "    new_df = new_df.groupby(['person_id','survey_datetime'],as_index=False).agg({'no_home': 'sum','no_meds': 'sum',\n",
    "                                                                      'no_food': 'sum','no_gas': 'sum',\n",
    "                                                                      'no_rent': 'sum','no_hardship': 'sum'})\n",
    "    return new_df\n",
    "\n",
    "\n",
    "\n",
    "# Just like Q2\n",
    "def Pick_All_That_Apply_Q3(df):\n",
    "    # A dictionary that shows which indices in the df have a certain response\n",
    "    # e.g. {'Did not have a regular place to sleep or stay' : 1,2,4,6,7,8,11...}\n",
    "    grouped_dict = df.groupby('answer').groups\n",
    "    all_responses = []\n",
    "    for index, row in df.iterrows():\n",
    "        family_conflict_ans = index in grouped_dict['Interpersonal conflict with family members or loved ones']\n",
    "        family_yelling_ans = index in grouped_dict['Snapping at or yelling at family members']\n",
    "        friend_conflict_ans = index in grouped_dict['Interpersonal conflict with friends or coworkers']\n",
    "        no_conflict_ans = index in grouped_dict['None of the above (if selected, no other response options are available']\n",
    "        responses = [int(x) for x in [family_conflict_ans,family_yelling_ans,friend_conflict_ans,no_conflict_ans]]\n",
    "        all_responses.append(responses)\n",
    "        \n",
    "    col_names = ['family_conflict','family_yelling','friend_conflict','no_conflict']\n",
    "    new_df = pd.DataFrame(all_responses,columns=col_names)\n",
    "    new_df['person_id'] = df['person_id'].values\n",
    "    new_df['survey_datetime'] = df['survey_datetime'].values\n",
    "    \n",
    "    # Because participants choose all that apply, there are basically multiple entries with the\n",
    "    # same person_id and survey_datetime but different answers. This merges those rows by basically\n",
    "    # adding them up (e.g. [1 0 0 0] + [0 0 1 0] = [1 0 1 0])\n",
    "    new_df = new_df.groupby(['person_id','survey_datetime'],as_index=False).agg({'family_conflict': 'sum',\n",
    "                                                                                 'family_yelling': 'sum',\n",
    "                                                                                 'friend_conflict': 'sum',\n",
    "                                                                                 'no_conflict': 'sum'})\n",
    "    return new_df\n",
    "\n",
    "# For Q4,Q5,Q7,Q8, these are ordinal questions, so the values for each\n",
    "# response are in the scoring_dict\n",
    "def Four_Point_Ordinal(response):\n",
    "    scoring_dict = {'PMI: Skip':np.nan,'Never':0,'Not at all':0,'Rarely':1,'A little':1,\n",
    "                    'Sometimes':2,'Somewhat':2,'Often':3,'A lot':3}\n",
    "    return scoring_dict[response]\n",
    "\n",
    "# Q6, same as Q4,Q5,Q7,Q8, but it's a 5-point scale instead\n",
    "def Five_Point_Ordinal(response):\n",
    "    scoring_dict = {'PMI: Skip':np.nan,'A lot less than normal':0,'Somewhat less than normal':1,\n",
    "                    'About the same as normal':3,'More than normal':4,'A lot more than normal':5}\n",
    "    return scoring_dict[response]\n",
    "\n",
    "# For vaccine hesitancy label\n",
    "def Label_Encoder(label):\n",
    "    label_dict = {'I do not know yet':0, 'PMI: Skip': 0,'Very unlikely':0, 'Unlikely':0,\n",
    "                  'Likely':1, 'Very likely':1}\n",
    "    return label_dict[label]"
   ]
  },
  {
   "cell_type": "code",
   "execution_count": 7,
   "metadata": {},
   "outputs": [],
   "source": [
    "# Convert the answer column to numerical \n",
    "covid_q1['answer'] = covid_q1['answer'].map(Binarize)\n",
    "covid_q4['answer'] = covid_q4['answer'].map(Four_Point_Ordinal)\n",
    "covid_q5['answer'] = covid_q5['answer'].map(Four_Point_Ordinal)\n",
    "covid_q6['answer'] = covid_q6['answer'].map(Five_Point_Ordinal)\n",
    "covid_q7['answer'] = covid_q7['answer'].map(Four_Point_Ordinal)\n",
    "covid_q8['answer'] = covid_q8['answer'].map(Four_Point_Ordinal)\n",
    "covid_label['answer'] = covid_label['answer'].map(Label_Encoder)\n",
    "\n",
    "# Separate for now:\n",
    "Q2_df = Pick_All_That_Apply_Q2(covid_q2)\n",
    "Q3_df = Pick_All_That_Apply_Q3(covid_q3)"
   ]
  },
  {
   "cell_type": "code",
   "execution_count": 8,
   "metadata": {},
   "outputs": [],
   "source": [
    "def Gen_Health_Scale(df_col):\n",
    "    answer_dict = {'Skip': np.nan,'Poor':0,'Fair':1,'Good':2,'Very Good':3,\n",
    "                   'Excellent':4,'Excllent':4} # 'Excellent' typo...\n",
    "    response = df_col.split(': ')[1] # Keeps everything past the colon (': ') in the answer\n",
    "    return answer_dict[response]\n",
    "\n",
    "gen_health = ['Overall Health: General Health', 'Overall Health: General Mental Health','Overall Health: General Social',\n",
    "          'Overall Health: Social Satisfaction']\n",
    "gen_health_Qs = Overall_Health_Q[np.isin(Overall_Health_Q['question'], gen_health)]\n",
    "\n",
    "col_names = ['person_id','survey_datetime','question','answer']\n",
    "\n",
    "new_df = pd.DataFrame(columns = col_names)\n",
    "new_df['person_id'] = gen_health_Qs['person_id']\n",
    "new_df['survey_datetime'] = gen_health_Qs['survey_datetime']\n",
    "new_df['question'] = gen_health_Qs['question']\n",
    "\n",
    "# Mapping answers to numbers\n",
    "new_df['answer'] = gen_health_Qs['answer'].map(Gen_Health_Scale)\n",
    "\n",
    "# Separating the questions we are interested in, renaming, and sorting by person_id\n",
    "gen_health_df = new_df[new_df['question'] == 'Overall Health: General Health']\n",
    "gen_health_df.rename(columns={\"answer\": \"gen_health\"})\n",
    "gen_health_df.sort_values(by=['person_id'],inplace=True)\n",
    "\n",
    "gen_mental_health_df = new_df[new_df['question'] == 'Overall Health: General Mental Health']\n",
    "gen_mental_health_df.rename(columns={\"answer\": \"gen_mental_health\"})\n",
    "gen_mental_health_df.sort_values(by=['person_id'],inplace=True)\n",
    "\n",
    "gen_social_health_df = new_df[new_df['question'] == 'Overall Health: General Social']\n",
    "gen_social_health_df.rename(columns={\"answer\": \"gen_social_health\"})\n",
    "gen_social_health_df.sort_values(by=['person_id'],inplace=True)\n",
    "\n",
    "gen_social_satisfac_df = new_df[new_df['question'] == 'Overall Health: General Social']\n",
    "gen_social_satisfac_df.rename(columns={\"answer\": \"gen_social_satisfac\"})\n",
    "gen_social_satisfac_df.sort_values(by=['person_id'],inplace=True)\n",
    "\n",
    "# Merging all the above\n",
    "merged1 = pd.merge(gen_health_df, gen_mental_health_df, on=['person_id', 'survey_datetime'],\n",
    "                  how='outer',suffixes=('_gen_health', '_gen_mental_health'))\n",
    "merged2 = pd.merge(merged1, gen_social_health_df, on=['person_id', 'survey_datetime'],\n",
    "                  how='outer',suffixes=('_1', '_gen_social_health'))\n",
    "merged3 = pd.merge(merged2, gen_social_satisfac_df, on=['person_id', 'survey_datetime'],\n",
    "                  how='outer',suffixes=('_2', '_gen_social_satisfac'))\n",
    "\n",
    "# Keeping only the features we want\n",
    "gen_health_df_final = merged3[['person_id', 'survey_datetime','answer_gen_health','answer_gen_mental_health',\n",
    "                       'answer_2','answer_gen_social_satisfac']]\n",
    "\n",
    "# Naming got a bit weird when merging, now renaming\n",
    "gen_health_df_final.rename(columns={\"answer_2\": \"gen_social_health\",'answer_gen_health':'gen_health',\n",
    "                             'answer_gen_mental_health':'gen_mental_health',\n",
    "                             'answer_gen_social_satisfac':'gen_social_satisfac'},inplace = True)\n",
    "\n",
    "# Fill in nan with mean\n",
    "gen_health_df_final[['gen_social_health','gen_health','gen_mental_health',\n",
    "                     'gen_social_satisfac']] = gen_health_df_final[['gen_social_health','gen_health','gen_mental_health',\n",
    "                     'gen_social_satisfac']].fillna(gen_health_df_final.mean())\n"
   ]
  },
  {
   "cell_type": "code",
   "execution_count": 9,
   "metadata": {},
   "outputs": [],
   "source": [
    "#\n",
    "# Not used in the end because there is very little overlap between the preexisting \n",
    "# condition data and covid data :/\n",
    "#\n",
    "#\n",
    "\n",
    "def Preexisting(df):\n",
    "    # A dictionary that shows which indices in the df have a certain response\n",
    "    # e.g. {'Did not have a regular place to sleep or stay' : 1,2,4,6,7,8,11...}\n",
    "    grouped_dict = df.groupby('answer').groups\n",
    "    all_responses = []\n",
    "    for index, row in df.iterrows():\n",
    "        hypertension = index in grouped_dict['Hypertension Currently: Yes']\n",
    "        obesity = index in grouped_dict['Obesity Currently: Yes']\n",
    "        diabetes_1 = index in grouped_dict['Type 1 Diabetes Currently: Yes']\n",
    "        diabetes_2 = index in grouped_dict['Type 2 Diabetes Currently: Yes']\n",
    "        diabetes_other = index in grouped_dict['Other Diabetes Currently: Yes']\n",
    "\n",
    "        responses = [int(x) for x in [hypertension,obesity,diabetes_1,diabetes_2,diabetes_other]]\n",
    "        all_responses.append(responses)\n",
    "        \n",
    "    col_names = ['hypertension','obesity','diabetes_1','diabetes_2','diabetes_other']\n",
    "    new_df = pd.DataFrame(all_responses,columns=col_names)\n",
    "    new_df['person_id'] = df['person_id'].values\n",
    "    new_df['survey_datetime'] = df['survey_datetime'].values\n",
    "    \n",
    "    # Because participants choose all that apply, there are basically multiple entries with the\n",
    "    # same person_id and survey_datetime but different answers. This merges those rows by basically\n",
    "    # adding them up (e.g. [1 0 0 0] + [0 0 1 0] = [1 0 1 0])\n",
    "    new_df = new_df.groupby(['person_id','survey_datetime'],as_index=False).agg({'hypertension': 'sum',\n",
    "                                                                                 'obesity': 'sum',\n",
    "                                                                                 'diabetes_1': 'sum',\n",
    "                                                                                 'diabetes_2': 'sum',\n",
    "                                                                                 'diabetes_other': 'sum'})\n",
    "    return new_df\n",
    "\n",
    "\n",
    "preexisting_cond = ['Endocrine: Type 1 Diabetes Currently','Endocrine: Type 2 Diabetes Currently',\n",
    "                    'Endocrine: Other Diabetes Currently','Other: Obesity Currently','Circulatory: Hypertension Currently']\n",
    "med_hist_q = Personal_Medical_History_Q[np.isin(Personal_Medical_History_Q['question'], preexisting_cond)]\n",
    "preexisting_df_final = Preexisting(med_hist_q).sort_values('person_id')"
   ]
  },
  {
   "cell_type": "code",
   "execution_count": 10,
   "metadata": {},
   "outputs": [],
   "source": [
    "def Timestamp_To_Age(born):\n",
    "    today = date.today()\n",
    "    return today.year - born.year - ((today.month, today.day) < (born.month, born.day))\n",
    "\n",
    "def Race_Renaming(race):\n",
    "    race_dict = {'I prefer not to answer':'no_ans', 'None of these':'other', 'PMI: Skip':'no_ans',\n",
    "                 'None Indicated':'no_ans','Black or African American':'black', 'White':'white',\n",
    "                 'Another single population':'other', 'More than one population':'multiple', 'Asian':'asian'}\n",
    "    return race_dict[race]\n",
    "\n",
    "def Ethnicity_Renaming(ethnicity):\n",
    "    ethn_dict = {'PMI: Prefer Not To Answer':'no_ans','What Race Ethnicity: Race Ethnicity None Of These': 'none_of_these',\n",
    "                 'PMI: Skip':'no_ans','Hispanic or Latino':'hispanic', 'Not Hispanic or Latino':'not_hispanic',\n",
    "                 'No matching concept':'none_of_these'}\n",
    "    return ethn_dict[ethnicity]\n",
    "\n",
    "def Sex_Renaming(sex):\n",
    "    sex_dict = {'Not male, not female, prefer not to answer, or skipped':'no_ans','No matching concept':'no_ans',\n",
    "                 'Female':'female', 'Male':'male'}\n",
    "    return sex_dict[sex]\n",
    "\n",
    "def Gender_Renaming(gender):\n",
    "    gender_dict = {'Not man only, not woman only, prefer not to answer, or skipped':'no_ans', 'No matching concept':'no_ans',\n",
    "                   'Male':'male','Female':'female'}\n",
    "    return gender_dict[gender]\n",
    "\n",
    "\n",
    "demographics = Demographic_Q[['PERSON_ID','DATE_OF_BIRTH','RACE','ETHNICITY','SEX_AT_BIRTH','GENDER']]\n",
    "demographics['DATE_OF_BIRTH'] = pd.to_datetime(demographics['DATE_OF_BIRTH'])\n",
    "\n",
    "demographics['DATE_OF_BIRTH'] = demographics['DATE_OF_BIRTH'].map(Timestamp_To_Age)\n",
    "demographics = demographics.rename(columns={'DATE_OF_BIRTH': 'AGE'})\n",
    "demographics['RACE'] = demographics['RACE'].map(Race_Renaming)\n",
    "demographics['ETHNICITY'] = demographics['ETHNICITY'].map(Ethnicity_Renaming)\n",
    "demographics['SEX_AT_BIRTH'] = demographics['SEX_AT_BIRTH'].map(Sex_Renaming)\n",
    "demographics['GENDER'] = demographics['GENDER'].map(Gender_Renaming)\n",
    "\n",
    "# demographics has only one entry per participant-- no multiple entries\n",
    "# across different time stamps\n",
    "new_df = pd.get_dummies(demographics, prefix=['race','ethn','sex','gender'],\n",
    "                        columns=['RACE','ETHNICITY','SEX_AT_BIRTH','GENDER'])\n",
    "\n",
    "new_df.sort_values('PERSON_ID',inplace = True)\n",
    "demographic_df_final = new_df[['PERSON_ID', 'AGE', 'race_asian', 'race_black', 'race_multiple', 'race_other',\n",
    "                         'race_white', 'ethn_hispanic', 'ethn_none_of_these', 'ethn_not_hispanic',\n",
    "                         'sex_female', 'sex_male', 'gender_female', 'gender_male']]\n",
    "demographic_df_final = demographic_df_final.rename(columns={'PERSON_ID': 'person_id','AGE':'age'})"
   ]
  },
  {
   "cell_type": "code",
   "execution_count": 11,
   "metadata": {},
   "outputs": [],
   "source": [
    "# just sorting\n",
    "covid_label.sort_values('person_id',inplace=True)\n",
    "covid_q1.sort_values('person_id',inplace=True)\n",
    "covid_q4.sort_values('person_id',inplace=True)\n",
    "covid_q5.sort_values('person_id',inplace=True)\n",
    "covid_q6.sort_values('person_id',inplace=True)\n",
    "covid_q7.sort_values('person_id',inplace=True)\n",
    "covid_q8.sort_values('person_id',inplace=True)\n",
    "\n",
    "covid_label = covid_label.rename(columns={'answer': 'label'})\n",
    "covid_q1 = covid_q1.rename(columns={'answer': 'covid_death'})\n",
    "covid_q4 = covid_q4.rename(columns={'answer': 'withdrawn'})\n",
    "covid_q5 = covid_q5.rename(columns={'answer': 'distancing_stress'})\n",
    "covid_q6 = covid_q6.rename(columns={'answer': 'social_interaction'})\n",
    "covid_q7 = covid_q7.rename(columns={'answer': 'lack_companionship'})\n",
    "covid_q8 = covid_q8.rename(columns={'answer': 'can_find_companionship'})\n",
    "\n",
    "# don't need restatement of question\n",
    "covid_label.drop(['question'],axis = 1,inplace = True)\n",
    "covid_q1.drop(['question'],axis = 1,inplace = True)\n",
    "covid_q4.drop(['question'],axis = 1,inplace = True)\n",
    "covid_q5.drop(['question'],axis = 1,inplace = True)\n",
    "covid_q6.drop(['question'],axis = 1,inplace = True)\n",
    "covid_q7.drop(['question'],axis = 1,inplace = True)\n",
    "covid_q8.drop(['question'],axis = 1,inplace = True)\n",
    "\n",
    "covid_q1['covid_death'] = covid_q1['covid_death'].astype(float)\n"
   ]
  },
  {
   "cell_type": "code",
   "execution_count": 12,
   "metadata": {},
   "outputs": [],
   "source": [
    "# First merging of dataframes\n",
    "data_frames = [covid_label, covid_q1, covid_q4, covid_q5, covid_q6, covid_q7, covid_q8]\n",
    "df_merged = reduce(lambda  left,right: pd.merge(left,right,on=['person_id', 'survey_datetime'], how='outer'), data_frames)"
   ]
  },
  {
   "cell_type": "code",
   "execution_count": 13,
   "metadata": {},
   "outputs": [],
   "source": [
    "# Filling in nan ordinal values with means\n",
    "df_merged[['withdrawn','distancing_stress','social_interaction',\n",
    "          'lack_companionship','can_find_companionship']] = df_merged[['withdrawn','distancing_stress','social_interaction',\n",
    "          'lack_companionship','can_find_companionship']].fillna(df_merged.mean()) \n",
    "\n",
    "# Dropping nan rows, should drop nan from the questions about death and the vaccine hesitancy label \n",
    "# since those are the only binary ones we did not fill with means\n",
    "df_merged_no_na = df_merged.dropna()"
   ]
  },
  {
   "cell_type": "code",
   "execution_count": 14,
   "metadata": {},
   "outputs": [],
   "source": [
    "# Second merging of dataframes\n",
    "\n",
    "data_frames = [df_merged_no_na, gen_health_df_final]\n",
    "df_merged_2 = reduce(lambda left,right: pd.merge(left,right,on=['person_id', 'survey_datetime'], how='outer'), data_frames)\n",
    "\n",
    "# Filling in values\n",
    "df_merged_2[['withdrawn', 'distancing_stress', 'social_interaction', 'lack_companionship',\n",
    "             'can_find_companionship', 'gen_health', 'gen_mental_health', 'gen_social_health',\n",
    "             'gen_social_satisfac']] = df_merged_2[['withdrawn', 'distancing_stress', 'social_interaction', 'lack_companionship',\n",
    "             'can_find_companionship', 'gen_health', 'gen_mental_health', 'gen_social_health',\n",
    "             'gen_social_satisfac']].fillna(df_merged_2.mean()) \n",
    "\n",
    "# Dropping nan rows\n",
    "df_merged_2 = df_merged_2.dropna()"
   ]
  },
  {
   "cell_type": "code",
   "execution_count": 15,
   "metadata": {},
   "outputs": [],
   "source": [
    "# Third merging of dataframes\n",
    "\n",
    "data_frames = [df_merged_2, Q2_df, Q3_df]\n",
    "df_merged_3 = reduce(lambda  left,right: pd.merge(left,right,on=['person_id', 'survey_datetime'], how='outer'), data_frames)\n",
    "df_merged_3 = df_merged_3.dropna()"
   ]
  },
  {
   "cell_type": "code",
   "execution_count": 16,
   "metadata": {},
   "outputs": [],
   "source": [
    "# Fourth merging of dataframes, final\n",
    "\n",
    "data_frames = [df_merged_3, demographic_df_final]\n",
    "df_merged_4 = reduce(lambda left,right: pd.merge(left,right,on=['person_id'], how='outer'), data_frames)\n",
    "\n",
    "# Ready-to-use data\n",
    "data = df_merged_4.dropna()\n"
   ]
  },
  {
   "cell_type": "code",
   "execution_count": 17,
   "metadata": {},
   "outputs": [
    {
     "data": {
      "text/plain": [
       "(71600, 36)"
      ]
     },
     "execution_count": 17,
     "metadata": {},
     "output_type": "execute_result"
    }
   ],
   "source": [
    "# We have repeated person ids, and it's good practice to have independent data points (i.e. no repeat people)\n",
    "# Randomly drops all but one entry for duplicated person_ids\n",
    "idxs = np.random.permutation(np.arange(len(data)))\n",
    "data = data.iloc[idxs].drop_duplicates(subset=['person_id'])\n",
    "data.shape"
   ]
  },
  {
   "cell_type": "code",
   "execution_count": 18,
   "metadata": {},
   "outputs": [
    {
     "name": "stderr",
     "output_type": "stream",
     "text": [
      "Copying file://./data.csv [Content-Type=text/csv]...\n",
      "- [1 files][ 17.0 MiB/ 17.0 MiB]                                                \n",
      "Operation completed over 1 objects/17.0 MiB.                                     \n"
     ]
    },
    {
     "name": "stdout",
     "output_type": "stream",
     "text": [
      "[INFO] data.csv is successfully uploaded in your bucket.\n"
     ]
    }
   ],
   "source": [
    "data_filename = 'data.csv'\n",
    "data.to_csv(data_filename,index=False)\n",
    "\n",
    "# get the bucket name\n",
    "my_bucket = os.getenv('WORKSPACE_BUCKET')\n",
    "\n",
    "# copy csv file to the bucket\n",
    "os.system(f\"gsutil cp './{data_filename}' '{my_bucket}/data/'\")\n",
    "print(f'[INFO] {data_filename} is successfully uploaded in your bucket.')"
   ]
  },
  {
   "cell_type": "code",
   "execution_count": 19,
   "metadata": {},
   "outputs": [
    {
     "name": "stderr",
     "output_type": "stream",
     "text": [
      "Copying gs://fc-secure-b41a20d8-cc27-4b00-94b8-ccd4711ca733/data/data.csv...\n",
      "/ [1 files][ 17.0 MiB/ 17.0 MiB]                                                \n",
      "Operation completed over 1 objects/17.0 MiB.                                     \n"
     ]
    },
    {
     "name": "stdout",
     "output_type": "stream",
     "text": [
      "[INFO] data.csv is successfully downloaded into your working space\n"
     ]
    }
   ],
   "source": [
    "# read in the csv\n",
    "data_filename = 'data.csv'\n",
    "my_bucket = os.getenv('WORKSPACE_BUCKET')\n",
    "\n",
    "os.system(f\"gsutil cp '{my_bucket}/data/{data_filename}' .\")\n",
    "print(f'[INFO] {data_filename} is successfully downloaded into your working space')\n",
    "\n",
    "data = pd.read_csv('data.csv')\n"
   ]
  },
  {
   "cell_type": "code",
   "execution_count": 20,
   "metadata": {},
   "outputs": [],
   "source": [
    "# anonymous version, don't need to use or anything\n",
    "anon_data = data.drop(['person_id','survey_datetime'],axis = 1)\n",
    "anon_data.to_csv('anonymized_data.csv',index=False)\n"
   ]
  },
  {
   "cell_type": "markdown",
   "metadata": {},
   "source": [
    "# Analysis"
   ]
  },
  {
   "cell_type": "code",
   "execution_count": 21,
   "metadata": {},
   "outputs": [],
   "source": [
    "# all our variables\n",
    "predictors = ['covid_death', 'withdrawn', 'distancing_stress', 'social_interaction', 'lack_companionship',\n",
    "          'can_find_companionship', 'gen_health', 'gen_mental_health', 'gen_social_health',\n",
    "          'gen_social_satisfac', 'no_home', 'no_meds', 'no_food', 'no_gas', 'no_rent', 'no_hardship',\n",
    "          'family_conflict', 'family_yelling', 'friend_conflict', 'no_conflict', 'age', 'race_asian',\n",
    "          'race_black', 'race_multiple', 'race_other', 'race_white', 'ethn_hispanic', 'ethn_none_of_these',\n",
    "          'ethn_not_hispanic', 'sex_female', 'sex_male', 'gender_female', 'gender_male']\n",
    "X = data[predictors]\n",
    "y = data['label']"
   ]
  },
  {
   "cell_type": "markdown",
   "metadata": {},
   "source": [
    "## Feature selection"
   ]
  },
  {
   "cell_type": "code",
   "execution_count": 22,
   "metadata": {},
   "outputs": [
    {
     "name": "stdout",
     "output_type": "stream",
     "text": [
      "[ 0.          0.          0.         -0.03828775  0.          0.\n",
      "  0.          0.          0.          0.          0.          0.\n",
      "  0.          0.          0.          0.06319911  0.          0.\n",
      "  0.          0.          0.00269292  0.         -0.07882604  0.\n",
      "  0.          0.05934186  0.          0.          0.          0.\n",
      "  0.         -0.06400256  0.        ]\n",
      "['social_interaction', 'no_hardship', 'age', 'race_black', 'race_white', 'gender_female']\n"
     ]
    }
   ],
   "source": [
    "# Least-angle regression with lasso\n",
    "# https://scikit-learn.org/stable/modules/generated/sklearn.linear_model.LassoLars.html\n",
    "reg = linear_model.LassoLars(alpha=0.01, normalize=False)\n",
    "reg.fit(X,y)\n",
    "coefficients = reg.coef_\n",
    "print(coefficients)\n",
    "print([pred for ind,pred in enumerate(predictors) if coefficients[ind] != 0])\n",
    "# SO, 'social_interaction', 'no_hardship', 'age', 'race_black', 'race_white', 'gender_female' can \n",
    "# possibly be predictors"
   ]
  },
  {
   "cell_type": "code",
   "execution_count": 23,
   "metadata": {},
   "outputs": [
    {
     "name": "stdout",
     "output_type": "stream",
     "text": [
      "['social_interaction', 'no_hardship', 'age', 'race_black', 'race_white', 'gender_female']\n",
      "['social_interaction', 'no_hardship', 'age', 'race_black', 'race_white', 'gender_female']\n"
     ]
    }
   ],
   "source": [
    "# recursive feature elimination, basically augmented backwards elimination\n",
    "# https://scikit-learn.org/stable/modules/generated/sklearn.feature_selection.RFE.html\n",
    "lasso = linear_model.Lasso(alpha=0.01, normalize=False)\n",
    "lasso.fit(X,y)\n",
    "selector = RFE(lasso, n_features_to_select = 6, step = 1)\n",
    "selector = selector.fit(X, y)\n",
    "supports = selector.support_\n",
    "print([pred for ind,pred in enumerate(predictors) if supports[ind] == True])\n",
    "print([pred for ind,pred in enumerate(predictors) if selector.ranking_[ind] <= 1]) # importance ranking of 1"
   ]
  },
  {
   "cell_type": "markdown",
   "metadata": {},
   "source": [
    "## Machine learning models using the features we found:"
   ]
  },
  {
   "cell_type": "code",
   "execution_count": 24,
   "metadata": {},
   "outputs": [
    {
     "data": {
      "text/plain": [
       "array([[0.80494181, 1.99059363, 1.012595  , 0.41094928, 1.4193068 ,\n",
       "        0.52365834]])"
      ]
     },
     "execution_count": 24,
     "metadata": {},
     "output_type": "execute_result"
    }
   ],
   "source": [
    "# Trying logistic regression with these features, including 'age'\n",
    "X_train_a, X_test_a, y_train_a, y_test_a = train_test_split(X[['social_interaction', 'no_hardship', 'age', 'race_black',\n",
    "                                                       'race_white', 'gender_female']], y, test_size=0.20, random_state=42)\n",
    "clf_with_age = LogisticRegression(random_state=0).fit(X_train_a, y_train_a)\n",
    "clf_with_age.score(X_test_a, y_test_a)\n",
    "np.exp(clf_with_age.coef_)"
   ]
  },
  {
   "cell_type": "code",
   "execution_count": 25,
   "metadata": {},
   "outputs": [
    {
     "data": {
      "text/plain": [
       "array([[0.80118118, 2.08934851, 0.44081371, 1.56057122, 0.49844207]])"
      ]
     },
     "execution_count": 25,
     "metadata": {},
     "output_type": "execute_result"
    }
   ],
   "source": [
    "# Without 'age', pretty much the same\n",
    "X_train_na, X_test_na, y_train_na, y_test_na = train_test_split(X[['social_interaction', 'no_hardship', 'race_black',\n",
    "                                                       'race_white', 'gender_female']], y, test_size=0.20, random_state=42)\n",
    "clf_no_age = LogisticRegression(random_state=0).fit(X_train_na, y_train_na)\n",
    "clf_no_age.score(X_test_na, y_test_na)\n",
    "np.exp(clf_no_age.coef_)"
   ]
  },
  {
   "cell_type": "code",
   "execution_count": 73,
   "metadata": {},
   "outputs": [],
   "source": [
    "# ROC curves for the model with and without age\n",
    "probs_with_age = clf_with_age.predict_proba(X_test_a)\n",
    "preds_with_age = probs_with_age[:,1]\n",
    "\n",
    "fpr_a, tpr_a, thresholds_a = metrics.roc_curve(y_test_a, preds_with_age, pos_label=1)\n",
    "\n",
    "probs_no_age = clf_no_age.predict_proba(X_test_na)\n",
    "preds_no_age = probs_no_age[:,1]\n",
    "\n",
    "fpr_na, tpr_na, thresholds_na = metrics.roc_curve(y_test_na, preds_no_age, pos_label=1)"
   ]
  },
  {
   "cell_type": "code",
   "execution_count": 74,
   "metadata": {},
   "outputs": [
    {
     "data": {
      "image/png": "[encoded data removed]",
      "text/plain": [
       "<Figure size 432x288 with 1 Axes>"
      ]
     },
     "metadata": {
      "needs_background": "light"
     },
     "output_type": "display_data"
    }
   ],
   "source": [
    "roc_auc_na = metrics.auc(fpr_na, tpr_na)\n",
    "roc_auc_a = metrics.auc(fpr_a, tpr_a)\n",
    "\n",
    "\n",
    "# method I: plt\n",
    "import matplotlib.pyplot as plt\n",
    "plt.title('Receiver Operating Characteristic')\n",
    "\n",
    "plt.plot(fpr_a, tpr_a, 'b',label = 'With age, AUC = %0.2f' % roc_auc_a)\n",
    "plt.plot(fpr_na, tpr_na, 'b--',label = 'No age, AUC = %0.2f' % roc_auc_na)\n",
    "plt.legend(loc = 'lower right')\n",
    "plt.plot([0, 1], [0, 1],'r--')\n",
    "plt.xlim([0, 1])\n",
    "plt.ylim([0, 1])\n",
    "plt.ylabel('True Positive Rate')\n",
    "plt.xlabel('False Positive Rate')\n",
    "plt.show()"
   ]
  },
  {
   "cell_type": "markdown",
   "metadata": {},
   "source": [
    "## Data exploration"
   ]
  },
  {
   "cell_type": "code",
   "execution_count": 75,
   "metadata": {},
   "outputs": [
    {
     "name": "stderr",
     "output_type": "stream",
     "text": [
      "/opt/conda/lib/python3.7/site-packages/seaborn/_decorators.py:43: FutureWarning: Pass the following variable as a keyword arg: x. From version 0.12, the only valid positional argument will be `data`, and passing other arguments without an explicit keyword will result in an error or misinterpretation.\n",
      "  FutureWarning\n",
      "/opt/conda/lib/python3.7/site-packages/seaborn/_decorators.py:43: FutureWarning: Pass the following variable as a keyword arg: x. From version 0.12, the only valid positional argument will be `data`, and passing other arguments without an explicit keyword will result in an error or misinterpretation.\n",
      "  FutureWarning\n",
      "/opt/conda/lib/python3.7/site-packages/seaborn/_decorators.py:43: FutureWarning: Pass the following variable as a keyword arg: x. From version 0.12, the only valid positional argument will be `data`, and passing other arguments without an explicit keyword will result in an error or misinterpretation.\n",
      "  FutureWarning\n",
      "/opt/conda/lib/python3.7/site-packages/seaborn/_decorators.py:43: FutureWarning: Pass the following variable as a keyword arg: x. From version 0.12, the only valid positional argument will be `data`, and passing other arguments without an explicit keyword will result in an error or misinterpretation.\n",
      "  FutureWarning\n"
     ]
    },
    {
     "data": {
      "image/png": "[encoded data removed]",
      "text/plain": [
       "<Figure size 432x288 with 2 Axes>"
      ]
     },
     "metadata": {
      "needs_background": "light"
     },
     "output_type": "display_data"
    },
    {
     "data": {
      "image/png": "[encoded data removed]",
      "text/plain": [
       "<Figure size 432x288 with 2 Axes>"
      ]
     },
     "metadata": {
      "needs_background": "light"
     },
     "output_type": "display_data"
    }
   ],
   "source": [
    "import seaborn as sns \n",
    "fig1, ax1 =plt.subplots(1,2)\n",
    "sns.countplot('label',data=data,palette='viridis',hue='no_hardship',ax=ax1[0])\n",
    "sns.countplot('label',data=data,palette='viridis',hue='race_black',ax=ax1[1])\n",
    "fig1.show()\n",
    "\n",
    "fig2, ax2 =plt.subplots(1,2)\n",
    "sns.countplot('label',data=data,palette='viridis',hue='race_white',ax=ax2[0])\n",
    "sns.countplot('label',data=data,palette='viridis',hue='gender_female',ax=ax2[1])\n",
    "fig2.show()"
   ]
  },
  {
   "cell_type": "code",
   "execution_count": 76,
   "metadata": {},
   "outputs": [
    {
     "name": "stderr",
     "output_type": "stream",
     "text": [
      "/opt/conda/lib/python3.7/site-packages/sklearn/linear_model/_logistic.py:765: ConvergenceWarning: lbfgs failed to converge (status=1):\n",
      "STOP: TOTAL NO. of ITERATIONS REACHED LIMIT.\n",
      "\n",
      "Increase the number of iterations (max_iter) or scale the data as shown in:\n",
      "    https://scikit-learn.org/stable/modules/preprocessing.html\n",
      "Please also refer to the documentation for alternative solver options:\n",
      "    https://scikit-learn.org/stable/modules/linear_model.html#logistic-regression\n",
      "  extra_warning_msg=_LOGISTIC_SOLVER_CONVERGENCE_MSG)\n"
     ]
    },
    {
     "name": "stdout",
     "output_type": "stream",
     "text": [
      "Confusion matrix of OLS\n",
      "[[  764  4525]\n",
      " [  478 15713]]\n",
      "\n",
      "Confusion matrix of Sigmoid\n",
      "[[ 5289     0]\n",
      " [    0 16191]]\n"
     ]
    },
    {
     "data": {
      "image/png": "[encoded data removed]",
      "text/plain": [
       "<Figure size 432x288 with 2 Axes>"
      ]
     },
     "metadata": {
      "needs_background": "light"
     },
     "output_type": "display_data"
    },
    {
     "data": {
      "image/png": "[encoded data removed]",
      "text/plain": [
       "<Figure size 432x288 with 2 Axes>"
      ]
     },
     "metadata": {
      "needs_background": "light"
     },
     "output_type": "display_data"
    }
   ],
   "source": [
    "from statsmodels.formula.api import ols\n",
    "from sklearn.metrics import confusion_matrix,r2_score\n",
    "from sklearn.metrics import ConfusionMatrixDisplay\n",
    "\n",
    "predictors = ['covid_death', 'withdrawn', 'distancing_stress', 'social_interaction', 'lack_companionship',\n",
    "          'can_find_companionship', 'gen_health', 'gen_mental_health', 'gen_social_health',\n",
    "          'gen_social_satisfac', 'no_home', 'no_meds', 'no_food', 'no_gas', 'no_rent', 'no_hardship',\n",
    "          'family_conflict', 'family_yelling', 'friend_conflict', 'no_conflict', 'age', 'race_asian',\n",
    "          'race_black', 'race_multiple', 'race_other', 'race_white', 'ethn_hispanic', 'ethn_none_of_these',\n",
    "          'ethn_not_hispanic', 'sex_female', 'sex_male', 'gender_female', 'gender_male']\n",
    "\n",
    "\n",
    "X_train, X_test, y_train, y_test = train_test_split(data[predictors],data['label'], test_size=0.3, random_state=44)\n",
    "full_train = X_train\n",
    "full_train['label'] = y_train\n",
    "full_test = X_test\n",
    "full_test['label'] = y_test\n",
    "\n",
    "model_ols = ols('label~covid_death+withdrawn+distancing_stress+social_interaction+\\\n",
    "lack_companionship+can_find_companionship+gen_health+gen_mental_health+gen_social_health+\\\n",
    "gen_social_satisfac+no_home+no_meds+no_food+no_gas+no_rent+no_hardship+family_conflict+\\\n",
    "family_yelling+friend_conflict+no_conflict+age+race_asian+race_black+race_multiple+race_other+\\\n",
    "race_white+ethn_hispanic+ethn_none_of_these+ethn_not_hispanic+sex_male+gender_male',data=full_train).fit()\n",
    "\n",
    "\n",
    "sigmoid_model = LogisticRegression().fit(X_train,y_train)\n",
    "sigmoid_model.score(X_test,y_test)\n",
    "\n",
    "pred_ols = model_ols.predict(X_test)\n",
    "pred_sigmoid = sigmoid_model.predict_proba(X_test)\n",
    "pred_sigmoid_class = sigmoid_model.predict(X_test)\n",
    "pred_sigmoid = pred_sigmoid[:,1]\n",
    "\n",
    "\n",
    "model_predictions = pd.DataFrame(columns = ['OLS_PRED','sigmoid_prob_PRED','sigmoid_class_PRED','actual'])\n",
    "model_predictions['OLS_PRED'] = pred_ols\n",
    "model_predictions['sigmoid_prob_PRED'] = pred_sigmoid\n",
    "model_predictions['sigmoid_class_PRED'] = pred_sigmoid_class\n",
    "model_predictions['actual'] = y_test\n",
    "\n",
    "def class_pred(pred,cut_off):\n",
    "    class_prediction=[]\n",
    "    for i in pred:\n",
    "        if i>=cut_off:\n",
    "            class_prediction.append(1)\n",
    "        else:\n",
    "            class_prediction.append(0)\n",
    "    return class_prediction\n",
    "\n",
    "pred_ols_class=class_pred(model_predictions['OLS_PRED'],0.5)\n",
    "model_predictions['ols_class_pred'] = pred_ols_class\n",
    "\n",
    "#https://scikit-learn.org/stable/modules/generated/sklearn.metrics.confusion_matrix.html\n",
    "# A confusion matrix is a good indicator to show the accuracy of the model. The C0,0 is true negative(TN), C1,0 is false negative(FN)\n",
    "#C1,1 is true positive (TP), and C0,1 is false positive( FP)\n",
    "ols_conf_matrix = confusion_matrix(model_predictions['actual'],model_predictions['ols_class_pred'])\n",
    "sigmoid_conf_matrix = confusion_matrix(model_predictions['actual'],model_predictions['sigmoid_class_PRED'])\n",
    "print(f\"Confusion matrix of OLS\\n{ols_conf_matrix}\\\n",
    "\\n\\nConfusion matrix of Sigmoid\\n{sigmoid_conf_matrix}\")\n",
    "\n",
    "disp1 = ConfusionMatrixDisplay(sigmoid_conf_matrix)\n",
    "disp1.plot();\n",
    "\n",
    "disp2 = ConfusionMatrixDisplay(ols_conf_matrix)\n",
    "disp2.plot();"
   ]
  },
  {
   "cell_type": "code",
   "execution_count": 42,
   "metadata": {},
   "outputs": [
    {
     "data": {
      "text/plain": [
       "0.0    51625\n",
       "1.0    19975\n",
       "Name: covid_death, dtype: int64"
      ]
     },
     "execution_count": 42,
     "metadata": {},
     "output_type": "execute_result"
    }
   ],
   "source": [
    "\n",
    "\n",
    "data['social_interaction']\n",
    "\n",
    "# all our variables\n",
    "predictors = ['covid_death', 'withdrawn', 'distancing_stress', 'social_interaction', 'lack_companionship',\n",
    "          'can_find_companionship', 'gen_health', 'gen_mental_health', 'gen_social_health',\n",
    "          'gen_social_satisfac', 'no_home', 'no_meds', 'no_food', 'no_gas', 'no_rent', 'no_hardship',\n",
    "          'family_conflict', 'family_yelling', 'friend_conflict', 'no_conflict', 'age', 'race_asian',\n",
    "          'race_black', 'race_multiple', 'race_other', 'race_white', 'ethn_hispanic', 'ethn_none_of_these',\n",
    "          'ethn_not_hispanic', 'sex_female', 'sex_male', 'gender_female', 'gender_male']\n",
    "X = data[predictors]\n",
    "y=data['label']\n",
    "\n",
    "\n",
    "\n",
    "type(X)\n",
    "\n",
    "\n",
    "cohort=data.dropna(axis=1)\n",
    "\n",
    "#cohort[].head(5)\n",
    "\n",
    "cohort['gen_mental_health'].describe()\n",
    "\n",
    "data['covid_death'].describe()\n",
    "\n",
    "data['covid_death'].value_counts()\n",
    "\n",
    "\n",
    "#data.head(5)"
   ]
  },
  {
   "cell_type": "code",
   "execution_count": 41,
   "metadata": {},
   "outputs": [
    {
     "data": {
      "text/plain": [
       "1.0    54225\n",
       "0.0    17375\n",
       "Name: label, dtype: int64"
      ]
     },
     "execution_count": 41,
     "metadata": {},
     "output_type": "execute_result"
    }
   ],
   "source": [
    "data['label'].value_counts()"
   ]
  },
  {
   "cell_type": "code",
   "execution_count": 125,
   "metadata": {},
   "outputs": [
    {
     "name": "stderr",
     "output_type": "stream",
     "text": [
      "/home/jupyter/notebooks/packages/tableone/tableone.py:237: DeprecationWarning: The pval_test_name argument is deprecated; use htest_name instead.\n",
      "  \"htest_name instead.\", DeprecationWarning)\n"
     ]
    },
    {
     "name": "stdout",
     "output_type": "stream",
     "text": [
      "                                   Grouped by label                                                            \n",
      "                                            Overall               0.0               1.0 P-Value            Test\n",
      "n                                             71600             17375             54225                        \n",
      "Race - White, n (%)             0      13735 (19.2)       5459 (31.4)       8276 (15.3)  <0.001     Chi-squared\n",
      "                                1      57865 (80.8)      11916 (68.6)      45949 (84.7)                        \n",
      "Race - Asian, n (%)             0      69812 (97.5)      17053 (98.1)      52759 (97.3)  <0.001     Chi-squared\n",
      "                                1        1788 (2.5)         322 (1.9)        1466 (2.7)                        \n",
      "Race - Black, n (%)             0      66674 (93.1)      14678 (84.5)      51996 (95.9)  <0.001     Chi-squared\n",
      "                                1        4926 (6.9)       2697 (15.5)        2229 (4.1)                        \n",
      "Race - Multiple Races, n (%)    0      70341 (98.2)      17036 (98.0)      53305 (98.3)   0.029     Chi-squared\n",
      "                                1        1259 (1.8)         339 (2.0)         920 (1.7)                        \n",
      "Race - Other, n (%)             0      70694 (98.7)      17083 (98.3)      53611 (98.9)  <0.001     Chi-squared\n",
      "                                1         906 (1.3)         292 (1.7)         614 (1.1)                        \n",
      "Ethnicity - Hispanic, n (%)     0      66467 (92.8)      15434 (88.8)      51033 (94.1)  <0.001     Chi-squared\n",
      "                                1        5133 (7.2)       1941 (11.2)        3192 (5.9)                        \n",
      "Ethnicity - None, n (%)         0      70959 (99.1)      17157 (98.7)      53802 (99.2)  <0.001     Chi-squared\n",
      "                                1         641 (0.9)         218 (1.3)         423 (0.8)                        \n",
      "Ethnicity - Non-Hispanic, n (%) 0        6728 (9.4)       2404 (13.8)        4324 (8.0)  <0.001     Chi-squared\n",
      "                                1      64872 (90.6)      14971 (86.2)      49901 (92.0)                        \n",
      "Female, n (%)                   0      25409 (35.5)       4083 (23.5)      21326 (39.3)  <0.001     Chi-squared\n",
      "                                1      46191 (64.5)      13292 (76.5)      32899 (60.7)                        \n",
      "Male, n (%)                     0      47405 (66.2)      13536 (77.9)      33869 (62.5)  <0.001     Chi-squared\n",
      "                                1      24195 (33.8)       3839 (22.1)      20356 (37.5)                        \n",
      "Age, median [Q1,Q3]                63.0 [49.0,71.0]  57.0 [44.0,67.0]  64.0 [51.0,72.0]  <0.001  Kruskal-Wallis\n",
      "[1] Hartigan's Dip Test reports possible\n",
      "                                  multimodal distributions for: age.\n",
      "[2] Normality test reports non-normal\n",
      "                                  distributions for: age.\n",
      "\n"
     ]
    }
   ],
   "source": [
    "#TABLE 1 DESCRIPTIVE TABLE \n",
    "#note: I created these tables (briana), however, I am unsure how to change the labels of 0 and 1. Anyone have any ideas?\n",
    "\n",
    "#cohort.rename(columns={'label':'VaccineHesitancy'})\n",
    "\n",
    "#cohort.rename(columns={\"label\": \"VaccineHesitancy\"})\n",
    "\n",
    "#print(cohort['VaccineHesitancy'])\n",
    "#cohort['label'].value_counts()\n",
    "\n",
    "demographic_var=['race_white', 'race_asian','race_black', 'race_multiple', 'race_other',  'ethn_hispanic', 'ethn_none_of_these', 'ethn_not_hispanic', 'gender_female', 'gender_male', 'age']\n",
    "categorical_var=['race_white', 'race_asian','race_black', 'race_multiple', 'race_other',  'ethn_hispanic', 'ethn_none_of_these', 'ethn_not_hispanic', 'gender_female', 'gender_male']\n",
    "\n",
    "labels_var={'race_white':'Race - White', 'race_asian':'Race - Asian','race_black':'Race - Black', 'race_multiple': 'Race - Multiple Races', 'race_other':'Race - Other',  'ethn_hispanic':'Ethnicity - Hispanic', 'ethn_none_of_these':'Ethnicity - None', 'ethn_not_hispanic': 'Ethnicity - Non-Hispanic', 'gender_female': 'Female', 'gender_male': 'Male', 'age':'Age'}\n",
    "labels=['Race - Asian', 'Race - Black', 'Race - Multiple', 'Race - Other', 'Race - Other', 'Race - Other', 'Race - Other', 'Race - Other', 'Race - Other', 'Race - Other']\n",
    "table1=TableOne(cohort, columns=demographic_var, categorical=categorical_var, nonnormal='age', groupby='label', missing=False,\n",
    "                dip_test=True, normal_test=True, rename=labels_var, tukey_test=True, pval=True, pval_test_name=True)\n",
    "print(table1)\n",
    "\n",
    "\n",
    "#TableOne?\n"
   ]
  },
  {
   "cell_type": "markdown",
   "metadata": {},
   "source": [
    "# Start HERE to download data\n",
    "## Run everything below "
   ]
  },
  {
   "cell_type": "code",
   "execution_count": 2,
   "metadata": {},
   "outputs": [
    {
     "data": {
      "text/plain": [
       "'try:\\n    from tableone import TableOne, load_dataset\\nexcept (ModuleNotFoundError, ImportError):\\n    # install on Colab\\n    !pip install tableone\\n    from tableone import TableOne, load_dataset'"
      ]
     },
     "execution_count": 2,
     "metadata": {},
     "output_type": "execute_result"
    }
   ],
   "source": [
    "import pandas as pd\n",
    "pd.options.mode.chained_assignment = None\n",
    "import os\n",
    "from datetime import date\n",
    "import numpy as np\n",
    "from sklearn.preprocessing import OneHotEncoder, OrdinalEncoder\n",
    "import itertools\n",
    "from functools import reduce\n",
    "from sklearn.model_selection import train_test_split\n",
    "from sklearn.linear_model import LogisticRegression\n",
    "from sklearn import linear_model\n",
    "from sklearn.feature_selection import RFE\n",
    "from sklearn import metrics\n",
    "import matplotlib.pyplot as plt\n",
    "from scipy import stats\n",
    "\n",
    "try:\n",
    "    from tableone import TableOne, load_dataset\n",
    "except (ModuleNotFoundError, ImportError):\n",
    "    # install on Colab\n",
    "    !pip install tableone\n",
    "    from tableone import TableOne, load_dataset"
   ]
  },
  {
   "cell_type": "code",
   "execution_count": 3,
   "metadata": {},
   "outputs": [
    {
     "name": "stderr",
     "output_type": "stream",
     "text": [
      "Copying gs://fc-secure-b41a20d8-cc27-4b00-94b8-ccd4711ca733/data/data.csv...\n",
      "/ [1 files][ 17.0 MiB/ 17.0 MiB]                                                \n",
      "Operation completed over 1 objects/17.0 MiB.                                     \n"
     ]
    },
    {
     "name": "stdout",
     "output_type": "stream",
     "text": [
      "[INFO] data.csv is successfully downloaded into your working space\n"
     ]
    }
   ],
   "source": [
    "# read in the csv\n",
    "data_filename = 'data.csv'\n",
    "my_bucket = os.getenv('WORKSPACE_BUCKET')\n",
    "\n",
    "os.system(f\"gsutil cp '{my_bucket}/data/{data_filename}' .\")\n",
    "print(f'[INFO] {data_filename} is successfully downloaded into your working space')\n",
    "\n",
    "# This is the data to work with\n",
    "data = pd.read_csv('data.csv')\n"
   ]
  }
 ],
 "metadata": {
  "kernelspec": {
   "display_name": "Python 3",
   "language": "python",
   "name": "python3"
  },
  "language_info": {
   "codemirror_mode": {
    "name": "ipython",
    "version": 3
   },
   "file_extension": ".py",
   "mimetype": "text/x-python",
   "name": "python",
   "nbconvert_exporter": "python",
   "pygments_lexer": "ipython3",
   "version": "3.7.10"
  },
  "toc": {
   "base_numbering": 1,
   "nav_menu": {},
   "number_sections": true,
   "sideBar": true,
   "skip_h1_title": false,
   "title_cell": "Table of Contents",
   "title_sidebar": "Contents",
   "toc_cell": false,
   "toc_position": {},
   "toc_section_display": true,
   "toc_window_display": false
  }
 },
 "nbformat": 4,
 "nbformat_minor": 2
}
