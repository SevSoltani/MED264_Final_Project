{
 "cells": [
  {
   "cell_type": "code",
   "execution_count": 71,
   "id": "9cbb2956",
   "metadata": {},
   "outputs": [],
   "source": [
    "import pandas as pd\n",
    "pd.options.mode.chained_assignment = None\n",
    "import os\n",
    "from datetime import date\n",
    "import numpy as np\n",
    "from sklearn.preprocessing import OneHotEncoder, OrdinalEncoder\n",
    "import itertools\n",
    "from functools import reduce\n",
    "from sklearn.model_selection import train_test_split\n",
    "from sklearn.linear_model import LogisticRegression\n",
    "from sklearn import linear_model\n",
    "from sklearn.feature_selection import RFE\n",
    "from sklearn import metrics\n",
    "import sklearn\n",
    "import statsmodels.api as sm\n",
    "import statsmodels.formula.api as smf\n",
    "from sklearn.metrics import mean_squared_error\n",
    "import warnings\n",
    "warnings.filterwarnings('ignore')\n",
    "from statsmodels.formula.api import ols\n",
    "from sklearn.metrics import confusion_matrix,r2_score\n",
    "from sklearn.metrics import ConfusionMatrixDisplay\n",
    "from sklearn.ensemble import RandomForestRegressor\n",
    "#import rfpimp\n",
    "#from rfpimp import *\n",
    "import warnings\n",
    "warnings.filterwarnings('ignore')\n",
    "from sklearn.ensemble import RandomForestRegressor\n",
    "from sklearn.inspection import permutation_importance\n",
    "import matplotlib.pyplot as plt\n",
    "import warnings\n",
    "warnings.filterwarnings('ignore')"
   ]
  },
  {
   "cell_type": "code",
   "execution_count": 136,
   "id": "c14dcef6",
   "metadata": {},
   "outputs": [],
   "source": [
    "data_filename = 'data.csv'\n",
    "my_bucket = os.getenv('WORKSPACE_BUCKET')\n",
    "\n",
    "os.system(f\"gsutil cp '{my_bucket}/data/{data_filename}' .\")\n",
    "print(f'[INFO] {data_filename} is successfully downloaded into your working space')\n",
    "\n",
    "# This is the data to work with\n",
    "df = pd.read_csv('data.csv')\n",
    "df = df.drop(['person_id','survey_datetime'],1)\n",
    "df = df.rename(columns={'label': 'vaccine_hesitancy'})"
   ]
  },
  {
   "cell_type": "code",
   "execution_count": 113,
   "id": "7c57cfb1",
   "metadata": {},
   "outputs": [],
   "source": [
    "import matplotlib.pyplot as plt"
   ]
  },
  {
   "cell_type": "code",
   "execution_count": 114,
   "id": "430a2a69",
   "metadata": {},
   "outputs": [],
   "source": [
    "import seaborn as sns "
   ]
  },
  {
   "cell_type": "code",
   "execution_count": 115,
   "id": "04a5255f",
   "metadata": {
    "scrolled": true
   },
   "outputs": [
    {
     "name": "stdout",
     "output_type": "stream",
     "text": [
      "<class 'pandas.core.frame.DataFrame'>\n",
      "RangeIndex: 71600 entries, 0 to 71599\n",
      "Data columns (total 34 columns):\n",
      " #   Column                  Non-Null Count  Dtype  \n",
      "---  ------                  --------------  -----  \n",
      " 0   vaccine_hesitancy       71600 non-null  int64  \n",
      " 1   covid_death             71600 non-null  int64  \n",
      " 2   withdrawn               71600 non-null  float64\n",
      " 3   distancing_stress       71600 non-null  float64\n",
      " 4   social_interaction      71600 non-null  float64\n",
      " 5   lack_companionship      71600 non-null  float64\n",
      " 6   can_find_companionship  71600 non-null  float64\n",
      " 7   gen_health              71600 non-null  float64\n",
      " 8   gen_mental_health       71600 non-null  float64\n",
      " 9   gen_social_health       71600 non-null  float64\n",
      " 10  gen_social_satisfac     71600 non-null  float64\n",
      " 11  no_home                 71600 non-null  int64  \n",
      " 12  no_meds                 71600 non-null  int64  \n",
      " 13  no_food                 71600 non-null  int64  \n",
      " 14  no_gas                  71600 non-null  int64  \n",
      " 15  no_rent                 71600 non-null  int64  \n",
      " 16  no_hardship             71600 non-null  int64  \n",
      " 17  family_conflict         71600 non-null  int64  \n",
      " 18  family_yelling          71600 non-null  int64  \n",
      " 19  friend_conflict         71600 non-null  int64  \n",
      " 20  no_conflict             71600 non-null  int64  \n",
      " 21  age                     71600 non-null  int64  \n",
      " 22  race_asian              71600 non-null  int64  \n",
      " 23  race_black              71600 non-null  int64  \n",
      " 24  race_multiple           71600 non-null  int64  \n",
      " 25  race_other              71600 non-null  int64  \n",
      " 26  race_white              71600 non-null  int64  \n",
      " 27  ethn_hispanic           71600 non-null  int64  \n",
      " 28  ethn_none_of_these      71600 non-null  int64  \n",
      " 29  ethn_not_hispanic       71600 non-null  int64  \n",
      " 30  sex_female              71600 non-null  int64  \n",
      " 31  sex_male                71600 non-null  int64  \n",
      " 32  gender_female           71600 non-null  int64  \n",
      " 33  gender_male             71600 non-null  int64  \n",
      "dtypes: float64(9), int64(25)\n",
      "memory usage: 18.6 MB\n"
     ]
    }
   ],
   "source": [
    "df.info()\n"
   ]
  },
  {
   "cell_type": "code",
   "execution_count": 116,
   "id": "0bb057dd",
   "metadata": {
    "scrolled": true
   },
   "outputs": [
    {
     "data": {
      "text/html": [
       "<div>\n",
       "<style scoped>\n",
       "    .dataframe tbody tr th:only-of-type {\n",
       "        vertical-align: middle;\n",
       "    }\n",
       "\n",
       "    .dataframe tbody tr th {\n",
       "        vertical-align: top;\n",
       "    }\n",
       "\n",
       "    .dataframe thead th {\n",
       "        text-align: right;\n",
       "    }\n",
       "</style>\n",
       "<table border=\"1\" class=\"dataframe\">\n",
       "  <thead>\n",
       "    <tr style=\"text-align: right;\">\n",
       "      <th></th>\n",
       "      <th>vaccine_hesitancy</th>\n",
       "      <th>covid_death</th>\n",
       "      <th>withdrawn</th>\n",
       "      <th>distancing_stress</th>\n",
       "      <th>social_interaction</th>\n",
       "      <th>lack_companionship</th>\n",
       "      <th>can_find_companionship</th>\n",
       "      <th>gen_health</th>\n",
       "      <th>gen_mental_health</th>\n",
       "      <th>gen_social_health</th>\n",
       "      <th>...</th>\n",
       "      <th>race_multiple</th>\n",
       "      <th>race_other</th>\n",
       "      <th>race_white</th>\n",
       "      <th>ethn_hispanic</th>\n",
       "      <th>ethn_none_of_these</th>\n",
       "      <th>ethn_not_hispanic</th>\n",
       "      <th>sex_female</th>\n",
       "      <th>sex_male</th>\n",
       "      <th>gender_female</th>\n",
       "      <th>gender_male</th>\n",
       "    </tr>\n",
       "  </thead>\n",
       "  <tbody>\n",
       "    <tr>\n",
       "      <th>count</th>\n",
       "      <td>71600.000000</td>\n",
       "      <td>71600.000000</td>\n",
       "      <td>7.160000e+04</td>\n",
       "      <td>71600.000000</td>\n",
       "      <td>71600.000000</td>\n",
       "      <td>7.160000e+04</td>\n",
       "      <td>7.160000e+04</td>\n",
       "      <td>7.160000e+04</td>\n",
       "      <td>7.160000e+04</td>\n",
       "      <td>7.160000e+04</td>\n",
       "      <td>...</td>\n",
       "      <td>71600.000000</td>\n",
       "      <td>71600.000000</td>\n",
       "      <td>71600.000000</td>\n",
       "      <td>71600.000000</td>\n",
       "      <td>71600.000000</td>\n",
       "      <td>71600.000000</td>\n",
       "      <td>71600.000000</td>\n",
       "      <td>71600.000000</td>\n",
       "      <td>71600.000000</td>\n",
       "      <td>71600.000000</td>\n",
       "    </tr>\n",
       "    <tr>\n",
       "      <th>mean</th>\n",
       "      <td>0.757332</td>\n",
       "      <td>0.278980</td>\n",
       "      <td>9.108624e-01</td>\n",
       "      <td>1.088329</td>\n",
       "      <td>0.632508</td>\n",
       "      <td>1.083842e+00</td>\n",
       "      <td>2.442214e+00</td>\n",
       "      <td>2.446394e+00</td>\n",
       "      <td>2.705668e+00</td>\n",
       "      <td>2.895801e+00</td>\n",
       "      <td>...</td>\n",
       "      <td>0.017584</td>\n",
       "      <td>0.012654</td>\n",
       "      <td>0.808170</td>\n",
       "      <td>0.071690</td>\n",
       "      <td>0.008953</td>\n",
       "      <td>0.906034</td>\n",
       "      <td>0.651634</td>\n",
       "      <td>0.340712</td>\n",
       "      <td>0.645126</td>\n",
       "      <td>0.337919</td>\n",
       "    </tr>\n",
       "    <tr>\n",
       "      <th>std</th>\n",
       "      <td>0.428699</td>\n",
       "      <td>0.448501</td>\n",
       "      <td>8.282322e-13</td>\n",
       "      <td>0.933493</td>\n",
       "      <td>1.263366</td>\n",
       "      <td>6.292788e-13</td>\n",
       "      <td>1.421095e-12</td>\n",
       "      <td>6.248379e-13</td>\n",
       "      <td>2.367456e-12</td>\n",
       "      <td>2.577956e-12</td>\n",
       "      <td>...</td>\n",
       "      <td>0.131434</td>\n",
       "      <td>0.111775</td>\n",
       "      <td>0.393743</td>\n",
       "      <td>0.257976</td>\n",
       "      <td>0.094194</td>\n",
       "      <td>0.291784</td>\n",
       "      <td>0.476456</td>\n",
       "      <td>0.473952</td>\n",
       "      <td>0.478479</td>\n",
       "      <td>0.473004</td>\n",
       "    </tr>\n",
       "    <tr>\n",
       "      <th>min</th>\n",
       "      <td>0.000000</td>\n",
       "      <td>0.000000</td>\n",
       "      <td>9.108624e-01</td>\n",
       "      <td>0.000000</td>\n",
       "      <td>0.000000</td>\n",
       "      <td>1.083842e+00</td>\n",
       "      <td>2.442214e+00</td>\n",
       "      <td>2.446394e+00</td>\n",
       "      <td>2.705668e+00</td>\n",
       "      <td>2.895801e+00</td>\n",
       "      <td>...</td>\n",
       "      <td>0.000000</td>\n",
       "      <td>0.000000</td>\n",
       "      <td>0.000000</td>\n",
       "      <td>0.000000</td>\n",
       "      <td>0.000000</td>\n",
       "      <td>0.000000</td>\n",
       "      <td>0.000000</td>\n",
       "      <td>0.000000</td>\n",
       "      <td>0.000000</td>\n",
       "      <td>0.000000</td>\n",
       "    </tr>\n",
       "    <tr>\n",
       "      <th>25%</th>\n",
       "      <td>1.000000</td>\n",
       "      <td>0.000000</td>\n",
       "      <td>9.108624e-01</td>\n",
       "      <td>0.000000</td>\n",
       "      <td>0.000000</td>\n",
       "      <td>1.083842e+00</td>\n",
       "      <td>2.442214e+00</td>\n",
       "      <td>2.446394e+00</td>\n",
       "      <td>2.705668e+00</td>\n",
       "      <td>2.895801e+00</td>\n",
       "      <td>...</td>\n",
       "      <td>0.000000</td>\n",
       "      <td>0.000000</td>\n",
       "      <td>1.000000</td>\n",
       "      <td>0.000000</td>\n",
       "      <td>0.000000</td>\n",
       "      <td>1.000000</td>\n",
       "      <td>0.000000</td>\n",
       "      <td>0.000000</td>\n",
       "      <td>0.000000</td>\n",
       "      <td>0.000000</td>\n",
       "    </tr>\n",
       "    <tr>\n",
       "      <th>50%</th>\n",
       "      <td>1.000000</td>\n",
       "      <td>0.000000</td>\n",
       "      <td>9.108624e-01</td>\n",
       "      <td>1.000000</td>\n",
       "      <td>0.000000</td>\n",
       "      <td>1.083842e+00</td>\n",
       "      <td>2.442214e+00</td>\n",
       "      <td>2.446394e+00</td>\n",
       "      <td>2.705668e+00</td>\n",
       "      <td>2.895801e+00</td>\n",
       "      <td>...</td>\n",
       "      <td>0.000000</td>\n",
       "      <td>0.000000</td>\n",
       "      <td>1.000000</td>\n",
       "      <td>0.000000</td>\n",
       "      <td>0.000000</td>\n",
       "      <td>1.000000</td>\n",
       "      <td>1.000000</td>\n",
       "      <td>0.000000</td>\n",
       "      <td>1.000000</td>\n",
       "      <td>0.000000</td>\n",
       "    </tr>\n",
       "    <tr>\n",
       "      <th>75%</th>\n",
       "      <td>1.000000</td>\n",
       "      <td>1.000000</td>\n",
       "      <td>9.108624e-01</td>\n",
       "      <td>2.000000</td>\n",
       "      <td>1.000000</td>\n",
       "      <td>1.083842e+00</td>\n",
       "      <td>2.442214e+00</td>\n",
       "      <td>2.446394e+00</td>\n",
       "      <td>2.705668e+00</td>\n",
       "      <td>2.895801e+00</td>\n",
       "      <td>...</td>\n",
       "      <td>0.000000</td>\n",
       "      <td>0.000000</td>\n",
       "      <td>1.000000</td>\n",
       "      <td>0.000000</td>\n",
       "      <td>0.000000</td>\n",
       "      <td>1.000000</td>\n",
       "      <td>1.000000</td>\n",
       "      <td>1.000000</td>\n",
       "      <td>1.000000</td>\n",
       "      <td>1.000000</td>\n",
       "    </tr>\n",
       "    <tr>\n",
       "      <th>max</th>\n",
       "      <td>1.000000</td>\n",
       "      <td>1.000000</td>\n",
       "      <td>9.108624e-01</td>\n",
       "      <td>3.000000</td>\n",
       "      <td>5.000000</td>\n",
       "      <td>1.083842e+00</td>\n",
       "      <td>2.442214e+00</td>\n",
       "      <td>2.446394e+00</td>\n",
       "      <td>2.705668e+00</td>\n",
       "      <td>2.895801e+00</td>\n",
       "      <td>...</td>\n",
       "      <td>1.000000</td>\n",
       "      <td>1.000000</td>\n",
       "      <td>1.000000</td>\n",
       "      <td>1.000000</td>\n",
       "      <td>1.000000</td>\n",
       "      <td>1.000000</td>\n",
       "      <td>1.000000</td>\n",
       "      <td>1.000000</td>\n",
       "      <td>1.000000</td>\n",
       "      <td>1.000000</td>\n",
       "    </tr>\n",
       "  </tbody>\n",
       "</table>\n",
       "<p>8 rows × 34 columns</p>\n",
       "</div>"
      ],
      "text/plain": [
       "       vaccine_hesitancy   covid_death     withdrawn  distancing_stress  \\\n",
       "count       71600.000000  71600.000000  7.160000e+04       71600.000000   \n",
       "mean            0.757332      0.278980  9.108624e-01           1.088329   \n",
       "std             0.428699      0.448501  8.282322e-13           0.933493   \n",
       "min             0.000000      0.000000  9.108624e-01           0.000000   \n",
       "25%             1.000000      0.000000  9.108624e-01           0.000000   \n",
       "50%             1.000000      0.000000  9.108624e-01           1.000000   \n",
       "75%             1.000000      1.000000  9.108624e-01           2.000000   \n",
       "max             1.000000      1.000000  9.108624e-01           3.000000   \n",
       "\n",
       "       social_interaction  lack_companionship  can_find_companionship  \\\n",
       "count        71600.000000        7.160000e+04            7.160000e+04   \n",
       "mean             0.632508        1.083842e+00            2.442214e+00   \n",
       "std              1.263366        6.292788e-13            1.421095e-12   \n",
       "min              0.000000        1.083842e+00            2.442214e+00   \n",
       "25%              0.000000        1.083842e+00            2.442214e+00   \n",
       "50%              0.000000        1.083842e+00            2.442214e+00   \n",
       "75%              1.000000        1.083842e+00            2.442214e+00   \n",
       "max              5.000000        1.083842e+00            2.442214e+00   \n",
       "\n",
       "         gen_health  gen_mental_health  gen_social_health  ...  race_multiple  \\\n",
       "count  7.160000e+04       7.160000e+04       7.160000e+04  ...   71600.000000   \n",
       "mean   2.446394e+00       2.705668e+00       2.895801e+00  ...       0.017584   \n",
       "std    6.248379e-13       2.367456e-12       2.577956e-12  ...       0.131434   \n",
       "min    2.446394e+00       2.705668e+00       2.895801e+00  ...       0.000000   \n",
       "25%    2.446394e+00       2.705668e+00       2.895801e+00  ...       0.000000   \n",
       "50%    2.446394e+00       2.705668e+00       2.895801e+00  ...       0.000000   \n",
       "75%    2.446394e+00       2.705668e+00       2.895801e+00  ...       0.000000   \n",
       "max    2.446394e+00       2.705668e+00       2.895801e+00  ...       1.000000   \n",
       "\n",
       "         race_other    race_white  ethn_hispanic  ethn_none_of_these  \\\n",
       "count  71600.000000  71600.000000   71600.000000        71600.000000   \n",
       "mean       0.012654      0.808170       0.071690            0.008953   \n",
       "std        0.111775      0.393743       0.257976            0.094194   \n",
       "min        0.000000      0.000000       0.000000            0.000000   \n",
       "25%        0.000000      1.000000       0.000000            0.000000   \n",
       "50%        0.000000      1.000000       0.000000            0.000000   \n",
       "75%        0.000000      1.000000       0.000000            0.000000   \n",
       "max        1.000000      1.000000       1.000000            1.000000   \n",
       "\n",
       "       ethn_not_hispanic    sex_female      sex_male  gender_female  \\\n",
       "count       71600.000000  71600.000000  71600.000000   71600.000000   \n",
       "mean            0.906034      0.651634      0.340712       0.645126   \n",
       "std             0.291784      0.476456      0.473952       0.478479   \n",
       "min             0.000000      0.000000      0.000000       0.000000   \n",
       "25%             1.000000      0.000000      0.000000       0.000000   \n",
       "50%             1.000000      1.000000      0.000000       1.000000   \n",
       "75%             1.000000      1.000000      1.000000       1.000000   \n",
       "max             1.000000      1.000000      1.000000       1.000000   \n",
       "\n",
       "        gender_male  \n",
       "count  71600.000000  \n",
       "mean       0.337919  \n",
       "std        0.473004  \n",
       "min        0.000000  \n",
       "25%        0.000000  \n",
       "50%        0.000000  \n",
       "75%        1.000000  \n",
       "max        1.000000  \n",
       "\n",
       "[8 rows x 34 columns]"
      ]
     },
     "execution_count": 116,
     "metadata": {},
     "output_type": "execute_result"
    }
   ],
   "source": [
    "df.describe()"
   ]
  },
  {
   "cell_type": "code",
   "execution_count": 117,
   "id": "ca635c7d",
   "metadata": {},
   "outputs": [
    {
     "data": {
      "text/plain": [
       "Index(['vaccine_hesitancy', 'covid_death', 'withdrawn', 'distancing_stress',\n",
       "       'social_interaction', 'lack_companionship', 'can_find_companionship',\n",
       "       'gen_health', 'gen_mental_health', 'gen_social_health',\n",
       "       'gen_social_satisfac', 'no_home', 'no_meds', 'no_food', 'no_gas',\n",
       "       'no_rent', 'no_hardship', 'family_conflict', 'family_yelling',\n",
       "       'friend_conflict', 'no_conflict', 'age', 'race_asian', 'race_black',\n",
       "       'race_multiple', 'race_other', 'race_white', 'ethn_hispanic',\n",
       "       'ethn_none_of_these', 'ethn_not_hispanic', 'sex_female', 'sex_male',\n",
       "       'gender_female', 'gender_male'],\n",
       "      dtype='object')"
      ]
     },
     "execution_count": 117,
     "metadata": {},
     "output_type": "execute_result"
    }
   ],
   "source": [
    "df.columns\n"
   ]
  },
  {
   "cell_type": "code",
   "execution_count": 119,
   "id": "c7643ca6",
   "metadata": {},
   "outputs": [
    {
     "ename": "AttributeError",
     "evalue": "'ConfusionMatrixDisplay' object has no attribute 'show'",
     "output_type": "error",
     "traceback": [
      "\u001b[1;31m---------------------------------------------------------------------------\u001b[0m",
      "\u001b[1;31mAttributeError\u001b[0m                            Traceback (most recent call last)",
      "\u001b[1;32m~\\AppData\\Local\\Temp/ipykernel_15628/1657582758.py\u001b[0m in \u001b[0;36m<module>\u001b[1;34m\u001b[0m\n\u001b[0;32m      1\u001b[0m \u001b[0msns\u001b[0m\u001b[1;33m.\u001b[0m\u001b[0mcountplot\u001b[0m\u001b[1;33m(\u001b[0m\u001b[1;34m'vaccine_hesitancy'\u001b[0m\u001b[1;33m,\u001b[0m\u001b[0mdata\u001b[0m\u001b[1;33m=\u001b[0m\u001b[0mdf\u001b[0m\u001b[1;33m,\u001b[0m\u001b[0mpalette\u001b[0m\u001b[1;33m=\u001b[0m\u001b[1;34m'viridis'\u001b[0m\u001b[1;33m,\u001b[0m\u001b[0mhue\u001b[0m\u001b[1;33m=\u001b[0m\u001b[1;34m'no_hardship'\u001b[0m\u001b[1;33m)\u001b[0m\u001b[1;33m\u001b[0m\u001b[1;33m\u001b[0m\u001b[0m\n\u001b[0;32m      2\u001b[0m \u001b[1;33m\u001b[0m\u001b[0m\n\u001b[1;32m----> 3\u001b[1;33m \u001b[0mfig\u001b[0m\u001b[1;33m.\u001b[0m\u001b[0mshow\u001b[0m\u001b[1;33m(\u001b[0m\u001b[1;33m)\u001b[0m\u001b[1;33m\u001b[0m\u001b[1;33m\u001b[0m\u001b[0m\n\u001b[0m",
      "\u001b[1;31mAttributeError\u001b[0m: 'ConfusionMatrixDisplay' object has no attribute 'show'"
     ]
    },
    {
     "data": {
      "image/png": "[encoded data removed]",
      "text/plain": [
       "<Figure size 432x288 with 1 Axes>"
      ]
     },
     "metadata": {
      "needs_background": "light"
     },
     "output_type": "display_data"
    }
   ],
   "source": [
    "sns.countplot('vaccine_hesitancy',data=df,palette='viridis',hue='no_hardship')\n",
    "\n",
    "fig.show()"
   ]
  },
  {
   "cell_type": "code",
   "execution_count": 120,
   "id": "9b90be74",
   "metadata": {},
   "outputs": [
    {
     "ename": "AttributeError",
     "evalue": "'ConfusionMatrixDisplay' object has no attribute 'show'",
     "output_type": "error",
     "traceback": [
      "\u001b[1;31m---------------------------------------------------------------------------\u001b[0m",
      "\u001b[1;31mAttributeError\u001b[0m                            Traceback (most recent call last)",
      "\u001b[1;32m~\\AppData\\Local\\Temp/ipykernel_15628/477966359.py\u001b[0m in \u001b[0;36m<module>\u001b[1;34m\u001b[0m\n\u001b[0;32m      1\u001b[0m \u001b[0msns\u001b[0m\u001b[1;33m.\u001b[0m\u001b[0mcountplot\u001b[0m\u001b[1;33m(\u001b[0m\u001b[1;34m'vaccine_hesitancy'\u001b[0m\u001b[1;33m,\u001b[0m\u001b[0mdata\u001b[0m\u001b[1;33m=\u001b[0m\u001b[0mdf\u001b[0m\u001b[1;33m,\u001b[0m\u001b[0mpalette\u001b[0m\u001b[1;33m=\u001b[0m\u001b[1;34m'viridis'\u001b[0m\u001b[1;33m,\u001b[0m\u001b[0mhue\u001b[0m\u001b[1;33m=\u001b[0m\u001b[1;34m'race_black'\u001b[0m\u001b[1;33m)\u001b[0m\u001b[1;33m\u001b[0m\u001b[1;33m\u001b[0m\u001b[0m\n\u001b[1;32m----> 2\u001b[1;33m \u001b[0mfig\u001b[0m\u001b[1;33m.\u001b[0m\u001b[0mshow\u001b[0m\u001b[1;33m(\u001b[0m\u001b[1;33m)\u001b[0m\u001b[1;33m\u001b[0m\u001b[1;33m\u001b[0m\u001b[0m\n\u001b[0m",
      "\u001b[1;31mAttributeError\u001b[0m: 'ConfusionMatrixDisplay' object has no attribute 'show'"
     ]
    },
    {
     "data": {
      "image/png": "[encoded data removed]",
      "text/plain": [
       "<Figure size 432x288 with 1 Axes>"
      ]
     },
     "metadata": {
      "needs_background": "light"
     },
     "output_type": "display_data"
    }
   ],
   "source": [
    "sns.countplot('vaccine_hesitancy',data=df,palette='viridis',hue='race_black')\n",
    "fig.show()"
   ]
  },
  {
   "cell_type": "code",
   "execution_count": 121,
   "id": "58c04fa7",
   "metadata": {},
   "outputs": [
    {
     "ename": "AttributeError",
     "evalue": "'ConfusionMatrixDisplay' object has no attribute 'show'",
     "output_type": "error",
     "traceback": [
      "\u001b[1;31m---------------------------------------------------------------------------\u001b[0m",
      "\u001b[1;31mAttributeError\u001b[0m                            Traceback (most recent call last)",
      "\u001b[1;32m~\\AppData\\Local\\Temp/ipykernel_15628/3503826048.py\u001b[0m in \u001b[0;36m<module>\u001b[1;34m\u001b[0m\n\u001b[0;32m      1\u001b[0m \u001b[0msns\u001b[0m\u001b[1;33m.\u001b[0m\u001b[0mcountplot\u001b[0m\u001b[1;33m(\u001b[0m\u001b[1;34m'vaccine_hesitancy'\u001b[0m\u001b[1;33m,\u001b[0m\u001b[0mdata\u001b[0m\u001b[1;33m=\u001b[0m\u001b[0mdf\u001b[0m\u001b[1;33m,\u001b[0m\u001b[0mpalette\u001b[0m\u001b[1;33m=\u001b[0m\u001b[1;34m'viridis'\u001b[0m\u001b[1;33m,\u001b[0m\u001b[0mhue\u001b[0m\u001b[1;33m=\u001b[0m\u001b[1;34m'race_white'\u001b[0m\u001b[1;33m)\u001b[0m\u001b[1;33m\u001b[0m\u001b[1;33m\u001b[0m\u001b[0m\n\u001b[1;32m----> 2\u001b[1;33m \u001b[0mfig\u001b[0m\u001b[1;33m.\u001b[0m\u001b[0mshow\u001b[0m\u001b[1;33m(\u001b[0m\u001b[1;33m)\u001b[0m\u001b[1;33m\u001b[0m\u001b[1;33m\u001b[0m\u001b[0m\n\u001b[0m",
      "\u001b[1;31mAttributeError\u001b[0m: 'ConfusionMatrixDisplay' object has no attribute 'show'"
     ]
    },
    {
     "data": {
      "image/png": "[encoded data removed]",
      "text/plain": [
       "<Figure size 432x288 with 1 Axes>"
      ]
     },
     "metadata": {
      "needs_background": "light"
     },
     "output_type": "display_data"
    }
   ],
   "source": [
    "sns.countplot('vaccine_hesitancy',data=df,palette='viridis',hue='race_white')\n",
    "fig.show()"
   ]
  },
  {
   "cell_type": "code",
   "execution_count": 122,
   "id": "28d55e41",
   "metadata": {},
   "outputs": [
    {
     "ename": "AttributeError",
     "evalue": "'ConfusionMatrixDisplay' object has no attribute 'show'",
     "output_type": "error",
     "traceback": [
      "\u001b[1;31m---------------------------------------------------------------------------\u001b[0m",
      "\u001b[1;31mAttributeError\u001b[0m                            Traceback (most recent call last)",
      "\u001b[1;32m~\\AppData\\Local\\Temp/ipykernel_15628/349125938.py\u001b[0m in \u001b[0;36m<module>\u001b[1;34m\u001b[0m\n\u001b[0;32m      1\u001b[0m \u001b[0msns\u001b[0m\u001b[1;33m.\u001b[0m\u001b[0mcountplot\u001b[0m\u001b[1;33m(\u001b[0m\u001b[1;34m'vaccine_hesitancy'\u001b[0m\u001b[1;33m,\u001b[0m\u001b[0mdata\u001b[0m\u001b[1;33m=\u001b[0m\u001b[0mdf\u001b[0m\u001b[1;33m,\u001b[0m\u001b[0mpalette\u001b[0m\u001b[1;33m=\u001b[0m\u001b[1;34m'viridis'\u001b[0m\u001b[1;33m,\u001b[0m\u001b[0mhue\u001b[0m\u001b[1;33m=\u001b[0m\u001b[1;34m'gender_female'\u001b[0m\u001b[1;33m)\u001b[0m\u001b[1;33m\u001b[0m\u001b[1;33m\u001b[0m\u001b[0m\n\u001b[1;32m----> 2\u001b[1;33m \u001b[0mfig\u001b[0m\u001b[1;33m.\u001b[0m\u001b[0mshow\u001b[0m\u001b[1;33m(\u001b[0m\u001b[1;33m)\u001b[0m\u001b[1;33m\u001b[0m\u001b[1;33m\u001b[0m\u001b[0m\n\u001b[0m",
      "\u001b[1;31mAttributeError\u001b[0m: 'ConfusionMatrixDisplay' object has no attribute 'show'"
     ]
    },
    {
     "data": {
      "image/png": "[encoded data removed]",
      "text/plain": [
       "<Figure size 432x288 with 1 Axes>"
      ]
     },
     "metadata": {
      "needs_background": "light"
     },
     "output_type": "display_data"
    }
   ],
   "source": [
    "sns.countplot('vaccine_hesitancy',data=df,palette='viridis',hue='gender_female')\n",
    "fig.show()"
   ]
  },
  {
   "cell_type": "code",
   "execution_count": 123,
   "id": "6710d295",
   "metadata": {},
   "outputs": [],
   "source": [
    "# all our variables\n",
    "predictors = ['covid_death', 'withdrawn', 'distancing_stress', 'social_interaction', 'lack_companionship',\n",
    "          'can_find_companionship', 'gen_health', 'gen_mental_health', 'gen_social_health',\n",
    "          'gen_social_satisfac', 'no_home', 'no_meds', 'no_food', 'no_gas', 'no_rent', 'no_hardship',\n",
    "          'family_conflict', 'family_yelling', 'friend_conflict', 'no_conflict', 'age', 'race_asian',\n",
    "          'race_black', 'race_multiple', 'race_other', 'race_white', 'ethn_hispanic', 'ethn_none_of_these',\n",
    "          'ethn_not_hispanic', 'sex_female', 'sex_male', 'gender_female', 'gender_male']\n",
    "X = df[predictors]\n",
    "y = df['vaccine_hesitancy']"
   ]
  },
  {
   "cell_type": "code",
   "execution_count": 124,
   "id": "369d7d0a",
   "metadata": {},
   "outputs": [
    {
     "name": "stdout",
     "output_type": "stream",
     "text": [
      "[ 0.          0.          0.         -0.03774827  0.          0.\n",
      "  0.          0.          0.          0.          0.          0.\n",
      "  0.          0.          0.          0.06540505  0.          0.\n",
      "  0.          0.          0.0027082   0.         -0.07309424  0.\n",
      "  0.          0.05963063  0.          0.          0.          0.\n",
      "  0.         -0.06419476  0.        ]\n",
      "['social_interaction', 'no_hardship', 'age', 'race_black', 'race_white', 'gender_female']\n"
     ]
    }
   ],
   "source": [
    "# Least-angle regression with lasso\n",
    "# https://scikit-learn.org/stable/modules/generated/sklearn.linear_model.LassoLars.html\n",
    "reg = linear_model.LassoLars(alpha=0.01, normalize=False)\n",
    "reg.fit(X,y)\n",
    "coefficients = reg.coef_\n",
    "print(coefficients)\n",
    "print([pred for ind,pred in enumerate(predictors) if coefficients[ind] != 0])\n",
    "# SO, 'social_interaction', 'no_hardship', 'age', 'race_black', 'race_white', 'gender_female' can \n",
    "# possibly be predictors"
   ]
  },
  {
   "cell_type": "code",
   "execution_count": 125,
   "id": "17e025ca",
   "metadata": {},
   "outputs": [
    {
     "name": "stdout",
     "output_type": "stream",
     "text": [
      "['social_interaction', 'no_hardship', 'race_black', 'race_white', 'gender_female']\n"
     ]
    }
   ],
   "source": [
    "# recursive feature elimination, basically augmented backwards elimination\n",
    "# https://scikit-learn.org/stable/modules/generated/sklearn.feature_selection.RFE.html\n",
    "selector = RFE(reg, n_features_to_select = 5, step = 1)\n",
    "selector = selector.fit(X, y)\n",
    "supports = selector.support_\n",
    "print([pred for ind,pred in enumerate(predictors) if supports[ind] == True])\n",
    "# So here, same features are chosen as for lasso lars besides 'age'"
   ]
  },
  {
   "cell_type": "code",
   "execution_count": 126,
   "id": "ec25503a",
   "metadata": {},
   "outputs": [
    {
     "data": {
      "text/plain": [
       "0.7639664804469274"
      ]
     },
     "execution_count": 126,
     "metadata": {},
     "output_type": "execute_result"
    }
   ],
   "source": [
    "# Trying logistic regression with these features, including 'age'\n",
    "X_train_a, X_test_a, y_train_a, y_test_a = train_test_split(X[['social_interaction', 'no_hardship', 'age', 'race_black',\n",
    "                                                       'race_white', 'gender_female']], y, test_size=0.20, random_state=42)\n",
    "clf_with_age = LogisticRegression(random_state=0).fit(X_train_a, y_train_a)\n",
    "clf_with_age.score(X_test_a, y_test_a)"
   ]
  },
  {
   "cell_type": "code",
   "execution_count": 128,
   "id": "1ae00640",
   "metadata": {},
   "outputs": [
    {
     "data": {
      "image/png": "[encoded data removed]",
      "text/plain": [
       "<Figure size 432x288 with 2 Axes>"
      ]
     },
     "metadata": {
      "needs_background": "light"
     },
     "output_type": "display_data"
    }
   ],
   "source": [
    "pred_with_age = clf_with_age.predict(X_test_a)\n",
    "conf_with_age = confusion_matrix(y_test_a , pred_with_age)\n",
    "fig = ConfusionMatrixDisplay(conf_with_age )\n",
    "fig.plot();"
   ]
  },
  {
   "cell_type": "code",
   "execution_count": 129,
   "id": "d9929b37",
   "metadata": {},
   "outputs": [
    {
     "data": {
      "text/plain": [
       "0.7608240223463687"
      ]
     },
     "execution_count": 129,
     "metadata": {},
     "output_type": "execute_result"
    }
   ],
   "source": [
    "# Without 'age', pretty much the same\n",
    "X_train_na, X_test_na, y_train_na, y_test_na = train_test_split(X[['social_interaction', 'no_hardship', 'race_black',\n",
    "                                                       'race_white', 'gender_female']], y, test_size=0.20, random_state=42)\n",
    "clf_no_age = LogisticRegression(random_state=0).fit(X_train_na, y_train_na)\n",
    "clf_no_age.score(X_test_na, y_test_na)"
   ]
  },
  {
   "cell_type": "code",
   "execution_count": 130,
   "id": "1e3c4cb4",
   "metadata": {},
   "outputs": [
    {
     "data": {
      "image/png": "[encoded data removed]",
      "text/plain": [
       "<Figure size 432x288 with 2 Axes>"
      ]
     },
     "metadata": {
      "needs_background": "light"
     },
     "output_type": "display_data"
    }
   ],
   "source": [
    "pred_clf_no_age = clf_no_age.predict(X_test_na)\n",
    "conf_clf_no_age = confusion_matrix(y_test_na , pred_clf_no_age)\n",
    "fig = ConfusionMatrixDisplay(conf_clf_no_age )\n",
    "fig.plot();"
   ]
  },
  {
   "cell_type": "code",
   "execution_count": 133,
   "id": "8efef5c9",
   "metadata": {},
   "outputs": [
    {
     "name": "stdout",
     "output_type": "stream",
     "text": [
      "Confusion matrix of LASSO\n",
      "[[  502  3062]\n",
      " [  318 10438]]\n",
      "\n",
      "Confusion matrix of RFE\n",
      "[[  415  3149]\n",
      " [  276 10480]]\n"
     ]
    }
   ],
   "source": [
    "print(f\"Confusion matrix of LASSO\\n{conf_with_age}\\\n",
    "\\n\\nConfusion matrix of RFE\\n{conf_clf_no_age}\")"
   ]
  },
  {
   "cell_type": "code",
   "execution_count": 109,
   "id": "36c76e0d",
   "metadata": {},
   "outputs": [],
   "source": [
    "pred_clf_no_age = clf_no_age.predict(X_test_na)\n",
    "conf_clf_no_age = confusion_matrix(y_test_na , pred_clf_no_age)"
   ]
  },
  {
   "cell_type": "code",
   "execution_count": 131,
   "id": "46b830a0",
   "metadata": {},
   "outputs": [
    {
     "name": "stdout",
     "output_type": "stream",
     "text": [
      "Confusion matrix of OLS\n",
      "[[  775  4514]\n",
      " [  496 15695]]\n",
      "\n",
      "Confusion matrix of Sigmoid\n",
      "[[ 5289     0]\n",
      " [    0 16191]]\n"
     ]
    },
    {
     "ename": "TypeError",
     "evalue": "__init__() missing 1 required positional argument: 'confusion_matrix'",
     "output_type": "error",
     "traceback": [
      "\u001b[1;31m---------------------------------------------------------------------------\u001b[0m",
      "\u001b[1;31mTypeError\u001b[0m                                 Traceback (most recent call last)",
      "\u001b[1;32m~\\AppData\\Local\\Temp/ipykernel_15628/3057864729.py\u001b[0m in \u001b[0;36m<module>\u001b[1;34m\u001b[0m\n\u001b[0;32m     54\u001b[0m \u001b[0mLASSO_conf_matrix\u001b[0m \u001b[1;33m=\u001b[0m \u001b[0mconfusion_matrix\u001b[0m\u001b[1;33m(\u001b[0m\u001b[0mmodel_predictions\u001b[0m\u001b[1;33m[\u001b[0m\u001b[1;34m'actual'\u001b[0m\u001b[1;33m]\u001b[0m\u001b[1;33m,\u001b[0m\u001b[0mmodel_predictions\u001b[0m\u001b[1;33m[\u001b[0m\u001b[1;34m'sigmoid_class_PRED'\u001b[0m\u001b[1;33m]\u001b[0m\u001b[1;33m)\u001b[0m\u001b[1;33m\u001b[0m\u001b[1;33m\u001b[0m\u001b[0m\n\u001b[0;32m     55\u001b[0m \u001b[1;33m\u001b[0m\u001b[0m\n\u001b[1;32m---> 56\u001b[1;33m \u001b[0mdisp3\u001b[0m\u001b[1;33m=\u001b[0m \u001b[0mConfusionMatrixDisplay\u001b[0m\u001b[1;33m(\u001b[0m\u001b[1;33m)\u001b[0m\u001b[1;33m\u001b[0m\u001b[1;33m\u001b[0m\u001b[0m\n\u001b[0m",
      "\u001b[1;32m~\\anaconda3\\lib\\site-packages\\sklearn\\utils\\validation.py\u001b[0m in \u001b[0;36minner_f\u001b[1;34m(*args, **kwargs)\u001b[0m\n\u001b[0;32m     61\u001b[0m             \u001b[0mextra_args\u001b[0m \u001b[1;33m=\u001b[0m \u001b[0mlen\u001b[0m\u001b[1;33m(\u001b[0m\u001b[0margs\u001b[0m\u001b[1;33m)\u001b[0m \u001b[1;33m-\u001b[0m \u001b[0mlen\u001b[0m\u001b[1;33m(\u001b[0m\u001b[0mall_args\u001b[0m\u001b[1;33m)\u001b[0m\u001b[1;33m\u001b[0m\u001b[1;33m\u001b[0m\u001b[0m\n\u001b[0;32m     62\u001b[0m             \u001b[1;32mif\u001b[0m \u001b[0mextra_args\u001b[0m \u001b[1;33m<=\u001b[0m \u001b[1;36m0\u001b[0m\u001b[1;33m:\u001b[0m\u001b[1;33m\u001b[0m\u001b[1;33m\u001b[0m\u001b[0m\n\u001b[1;32m---> 63\u001b[1;33m                 \u001b[1;32mreturn\u001b[0m \u001b[0mf\u001b[0m\u001b[1;33m(\u001b[0m\u001b[1;33m*\u001b[0m\u001b[0margs\u001b[0m\u001b[1;33m,\u001b[0m \u001b[1;33m**\u001b[0m\u001b[0mkwargs\u001b[0m\u001b[1;33m)\u001b[0m\u001b[1;33m\u001b[0m\u001b[1;33m\u001b[0m\u001b[0m\n\u001b[0m\u001b[0;32m     64\u001b[0m \u001b[1;33m\u001b[0m\u001b[0m\n\u001b[0;32m     65\u001b[0m             \u001b[1;31m# extra_args > 0\u001b[0m\u001b[1;33m\u001b[0m\u001b[1;33m\u001b[0m\u001b[0m\n",
      "\u001b[1;31mTypeError\u001b[0m: __init__() missing 1 required positional argument: 'confusion_matrix'"
     ]
    },
    {
     "data": {
      "image/png": "[encoded data removed]",
      "text/plain": [
       "<Figure size 432x288 with 2 Axes>"
      ]
     },
     "metadata": {
      "needs_background": "light"
     },
     "output_type": "display_data"
    },
    {
     "data": {
      "image/png": "[encoded data removed]",
      "text/plain": [
       "<Figure size 432x288 with 2 Axes>"
      ]
     },
     "metadata": {
      "needs_background": "light"
     },
     "output_type": "display_data"
    }
   ],
   "source": [
    "X_train, X_test, y_train, y_test = train_test_split(df[predictors],df['vaccine_hesitancy'], test_size=0.3, random_state=44)\n",
    "full_train = X_train\n",
    "full_train['vaccine_hesitancy'] = y_train\n",
    "full_test = X_test\n",
    "full_test['vaccine_hesitancy'] = y_test\n",
    "\n",
    "model_ols = ols('vaccine_hesitancy~covid_death+withdrawn+distancing_stress+social_interaction+\\\n",
    "lack_companionship+can_find_companionship+gen_health+gen_mental_health+gen_social_health+\\\n",
    "gen_social_satisfac+no_home+no_meds+no_food+no_gas+no_rent+no_hardship+family_conflict+\\\n",
    "family_yelling+friend_conflict+no_conflict+age+race_asian+race_black+race_multiple+race_other+\\\n",
    "race_white+ethn_hispanic+ethn_none_of_these+ethn_not_hispanic+sex_male+gender_male',data=full_train).fit()\n",
    "\n",
    "\n",
    "sigmoid_model = LogisticRegression().fit(X_train,y_train)\n",
    "sigmoid_model.score(X_test,y_test)\n",
    "\n",
    "pred_ols = model_ols.predict(X_test)\n",
    "pred_sigmoid = sigmoid_model.predict_proba(X_test)\n",
    "pred_sigmoid_class = sigmoid_model.predict(X_test)\n",
    "pred_sigmoid = pred_sigmoid[:,1]\n",
    "\n",
    "\n",
    "model_predictions = pd.DataFrame(columns = ['OLS_PRED','sigmoid_prob_PRED','sigmoid_class_PRED','actual'])\n",
    "model_predictions['OLS_PRED'] = pred_ols\n",
    "model_predictions['sigmoid_prob_PRED'] = pred_sigmoid\n",
    "model_predictions['sigmoid_class_PRED'] = pred_sigmoid_class\n",
    "model_predictions['actual'] = y_test\n",
    "\n",
    "def class_pred(pred,cut_off):\n",
    "    class_prediction=[]\n",
    "    for i in pred:\n",
    "        if i>=cut_off:\n",
    "            class_prediction.append(1)\n",
    "        else:\n",
    "            class_prediction.append(0)\n",
    "    return class_prediction\n",
    "\n",
    "pred_ols_class=class_pred(model_predictions['OLS_PRED'],0.5)\n",
    "model_predictions['ols_class_pred'] = pred_ols_class\n",
    "\n",
    "#https://scikit-learn.org/stable/modules/generated/sklearn.metrics.confusion_matrix.html\n",
    "# A confusion matrix is a good indicator to show the accuracy of the model. The C0,0 is true negative(TN), C1,0 is false negative(FN)\n",
    "#C1,1 is true positive (TP), and C0,1 is false positive( FP)\n",
    "ols_conf_matrix = confusion_matrix(model_predictions['actual'],model_predictions['ols_class_pred'])\n",
    "sigmoid_conf_matrix = confusion_matrix(model_predictions['actual'],model_predictions['sigmoid_class_PRED'])\n",
    "print(f\"Confusion matrix of OLS\\n{ols_conf_matrix}\\\n",
    "\\n\\nConfusion matrix of Sigmoid\\n{sigmoid_conf_matrix}\")\n",
    "\n",
    "disp1 = ConfusionMatrixDisplay(sigmoid_conf_matrix)\n",
    "disp1.plot();\n",
    "\n",
    "disp2 = ConfusionMatrixDisplay(ols_conf_matrix)\n",
    "disp2.plot();\n",
    "LASSO_conf_matrix = confusion_matrix(model_predictions['actual'],model_predictions['sigmoid_class_PRED'])\n",
    "\n",
    "disp3= ConfusionMatrixDisplay()"
   ]
  },
  {
   "cell_type": "code",
   "execution_count": 93,
   "id": "88d65004",
   "metadata": {},
   "outputs": [],
   "source": [
    "# ROC curves for the model with and without age\n",
    "probs_with_age = clf_with_age.predict_proba(X_test_a)\n",
    "preds_with_age = probs_with_age[:,1]\n",
    "\n",
    "fpr_a, tpr_a, thresholds_a = metrics.roc_curve(y_test_a, preds_with_age, pos_label=1)\n",
    "\n",
    "probs_no_age = clf_no_age.predict_proba(X_test_na)\n",
    "preds_no_age = probs_no_age[:,1]\n",
    "\n",
    "fpr_na, tpr_na, thresholds_na = metrics.roc_curve(y_test_na, preds_no_age, pos_label=1)"
   ]
  },
  {
   "cell_type": "code",
   "execution_count": 94,
   "id": "d3d40a1c",
   "metadata": {},
   "outputs": [
    {
     "data": {
      "text/plain": [
       "0.7654329608938547"
      ]
     },
     "execution_count": 94,
     "metadata": {},
     "output_type": "execute_result"
    }
   ],
   "source": [
    "l='covid_death+withdrawn+distancing_stress+social_interaction+\\\n",
    "lack_companionship+can_find_companionship+gen_health+gen_mental_health+gen_social_health+\\\n",
    "gen_social_satisfac+no_home+no_meds+no_food+no_gas+no_rent+no_hardship+family_conflict+\\\n",
    "family_yelling+friend_conflict+no_conflict+age+race_asian+race_black+race_multiple+race_other+\\\n",
    "race_white+ethn_hispanic+ethn_none_of_these+ethn_not_hispanic+sex_male+gender_male'\n",
    "C=l.split('+')\n",
    "Xs=df[C]\n",
    "ys=df['vaccine_hesitancy']\n",
    "Xs_train, Xs_test, ys_train, ys_test = train_test_split(Xs, ys, test_size=0.2, random_state=44)\n",
    "sigmoid_model = LogisticRegression().fit(Xs_train,ys_train)\n",
    "sigmoid_model.score(Xs_test,ys_test)"
   ]
  },
  {
   "cell_type": "code",
   "execution_count": 95,
   "id": "c6f3c156",
   "metadata": {},
   "outputs": [
    {
     "data": {
      "text/plain": [
       "0.7662476722532588"
      ]
     },
     "execution_count": 95,
     "metadata": {},
     "output_type": "execute_result"
    }
   ],
   "source": [
    "model_ols = ols('vaccine_hesitancy~covid_death+withdrawn+distancing_stress+social_interaction+\\\n",
    "lack_companionship+can_find_companionship+gen_health+gen_mental_health+gen_social_health+\\\n",
    "gen_social_satisfac+no_home+no_meds+no_food+no_gas+no_rent+no_hardship+family_conflict+\\\n",
    "family_yelling+friend_conflict+no_conflict+age+race_asian+race_black+race_multiple+race_other+\\\n",
    "race_white+ethn_hispanic+ethn_none_of_these+ethn_not_hispanic+sex_male+gender_male',data=full_train).fit()\n",
    "pred_ols_class=class_pred(model_predictions['OLS_PRED'],0.4)\n",
    "model_predictions['ols_class_pred'] = pred_ols_class\n",
    "C_O=l.split('+')\n",
    "Xo=df[C_O]\n",
    "yo=df['vaccine_hesitancy']\n",
    "Xo_train, Xo_test, yo_train, yo_test = train_test_split(Xo, yo, test_size=0.3, random_state=44)\n",
    "OLS_model = LogisticRegression().fit(Xo_train,yo_train)\n",
    "OLS_model.score(Xo_test,yo_test)"
   ]
  },
  {
   "cell_type": "code",
   "execution_count": 96,
   "id": "e7400927",
   "metadata": {},
   "outputs": [],
   "source": [
    "probs_with_s = sigmoid_model.predict_proba(Xs_test)\n",
    "preds_with_s = probs_with_s[:,1]\n",
    "\n",
    "fpr_s, tpr_s, thresholds_s = metrics.roc_curve(ys_test, preds_with_s, pos_label=1)\n",
    "\n",
    "#probs_no_age = clf_no_age.predict_proba(X_test_na)\n",
    "#preds_no_age = probs_no_age[:,1]\n",
    "\n",
    "#fpr_na, tpr_na, thresholds_na = metrics.roc_curve(y_test_na, preds_no_age, pos_label=1)"
   ]
  },
  {
   "cell_type": "code",
   "execution_count": 97,
   "id": "69d9e268",
   "metadata": {},
   "outputs": [],
   "source": [
    "probs_with_o = OLS_model.predict_proba(Xo_test)\n",
    "preds_with_o = probs_with_o[:,1]\n",
    "\n",
    "fpr_o, tpr_o, thresholds_o = metrics.roc_curve(yo_test, preds_with_o, pos_label=1)\n",
    "\n",
    "#probs_no_age = clf_no_age.predict_proba(X_test_na)\n",
    "#preds_no_age = probs_no_age[:,1]\n",
    "\n",
    "#fpr_na, tpr_na, thresholds_na = metrics.roc_curve(y_test_na, preds_no_age, pos_label=1)"
   ]
  },
  {
   "cell_type": "code",
   "execution_count": 98,
   "id": "4c4f3b3a",
   "metadata": {},
   "outputs": [
    {
     "data": {
      "image/png": "[encoded data removed]",
      "text/plain": [
       "<Figure size 432x288 with 1 Axes>"
      ]
     },
     "metadata": {
      "needs_background": "light"
     },
     "output_type": "display_data"
    }
   ],
   "source": [
    "roc_auc_na = metrics.auc(fpr_na, tpr_na)\n",
    "roc_auc_a = metrics.auc(fpr_a, tpr_a)\n",
    "roc_auc_s=metrics.auc(fpr_s,tpr_s)\n",
    "roc_auc_o=metrics.auc(fpr_o,tpr_o)\n",
    "\n",
    "# method I: plt\n",
    "import matplotlib.pyplot as plt\n",
    "plt.title('Receiver Operating Characteristic')\n",
    "\n",
    "plt.plot(fpr_a, tpr_a, 'k',label = 'With age, AUC = %0.4f' % roc_auc_a)\n",
    "plt.plot(fpr_na, tpr_na, 'g--',label = 'No age, AUC = %0.5f' % roc_auc_na)\n",
    "plt.plot(fpr_s, tpr_s, 'b--',label = 'Sigmoid, AUC = %0.5f' % roc_auc_na)\n",
    "plt.plot(fpr_o,tpr_o,'c:',label='OLS,AUC = %0.5f' % roc_auc_na)\n",
    "plt.legend(loc = 'lower right')\n",
    "plt.plot([0, 1], [0, 1],'r--')\n",
    "plt.xlim([0, 1])\n",
    "plt.ylim([0, 1])\n",
    "plt.ylabel('True Positive Rate')\n",
    "plt.xlabel('False Positive Rate')\n",
    "plt.show()"
   ]
  },
  {
   "cell_type": "code",
   "execution_count": 101,
   "id": "12f240a6",
   "metadata": {},
   "outputs": [],
   "source": [
    "x=df.drop('vaccine_hesitancy',axis=1)\n",
    "y=df['vaccine_hesitancy']\n"
   ]
  },
  {
   "cell_type": "code",
   "execution_count": 102,
   "id": "333afbfb",
   "metadata": {},
   "outputs": [
    {
     "data": {
      "text/plain": [
       "Index(['covid_death', 'withdrawn', 'distancing_stress', 'social_interaction',\n",
       "       'lack_companionship', 'can_find_companionship', 'gen_health',\n",
       "       'gen_mental_health', 'gen_social_health', 'gen_social_satisfac',\n",
       "       'no_home', 'no_meds', 'no_food', 'no_gas', 'no_rent', 'no_hardship',\n",
       "       'family_conflict', 'family_yelling', 'friend_conflict', 'no_conflict',\n",
       "       'age', 'race_asian', 'race_black', 'race_multiple', 'race_other',\n",
       "       'race_white', 'ethn_hispanic', 'ethn_none_of_these',\n",
       "       'ethn_not_hispanic', 'sex_female', 'sex_male', 'gender_female',\n",
       "       'gender_male'],\n",
       "      dtype='object')"
      ]
     },
     "execution_count": 102,
     "metadata": {},
     "output_type": "execute_result"
    }
   ],
   "source": [
    "x.columns"
   ]
  },
  {
   "cell_type": "code",
   "execution_count": 103,
   "id": "6d2e68de",
   "metadata": {},
   "outputs": [],
   "source": [
    "feature=''\n",
    "for i in range(len(x.columns)):\n",
    "    new=x.columns[i]\n",
    "    feature=feature+'+'+new"
   ]
  },
  {
   "cell_type": "code",
   "execution_count": 104,
   "id": "1c7fc803",
   "metadata": {},
   "outputs": [
    {
     "data": {
      "text/plain": [
       "'+covid_death+withdrawn+distancing_stress+social_interaction+lack_companionship+can_find_companionship+gen_health+gen_mental_health+gen_social_health+gen_social_satisfac+no_home+no_meds+no_food+no_gas+no_rent+no_hardship+family_conflict+family_yelling+friend_conflict+no_conflict+age+race_asian+race_black+race_multiple+race_other+race_white+ethn_hispanic+ethn_none_of_these+ethn_not_hispanic+sex_female+sex_male+gender_female+gender_male'"
      ]
     },
     "execution_count": 104,
     "metadata": {},
     "output_type": "execute_result"
    }
   ],
   "source": [
    "feature"
   ]
  },
  {
   "cell_type": "code",
   "execution_count": 106,
   "id": "903a10f0",
   "metadata": {},
   "outputs": [],
   "source": [
    "model_ols = ols('vaccine_hesitancy~covid_death+withdrawn+distancing_stress+social_interaction+\\\n",
    "lack_companionship+can_find_companionship+gen_health+gen_mental_health+gen_social_health+\\\n",
    "gen_social_satisfac+no_home+no_meds+no_food+no_gas+no_rent+no_hardship+family_conflict+\\\n",
    "family_yelling+friend_conflict+no_conflict+age+race_asian+race_black+race_multiple+race_other+\\\n",
    "race_white+ethn_hispanic+ethn_none_of_these+ethn_not_hispanic+sex_male+gender_male',data=df).fit()\n",
    "\n",
    "sigmoid_model = LogisticRegression().fit(x,y)\n"
   ]
  },
  {
   "cell_type": "code",
   "execution_count": 108,
   "id": "2a196fbb",
   "metadata": {},
   "outputs": [
    {
     "name": "stdout",
     "output_type": "stream",
     "text": [
      "                                     Results: Ordinary least squares\n",
      "==========================================================================================================\n",
      "Model:                            OLS                           Adj. R-squared:                 0.101     \n",
      "Dependent Variable:               vaccine_hesitancy             AIC:                            74293.8975\n",
      "Date:                             2021-12-09 18:31              BIC:                            74532.5476\n",
      "No. Observations:                 71600                         Log-Likelihood:                 -37121.   \n",
      "Df Model:                         25                            F-statistic:                    323.2     \n",
      "Df Residuals:                     71574                         Prob (F-statistic):             0.00      \n",
      "R-squared:                        0.101                         Scale:                          0.16520   \n",
      "----------------------------------------------------------------------------------------------------------\n",
      "                            Coef.           Std.Err.       t     P>|t|        [0.025           0.975]     \n",
      "----------------------------------------------------------------------------------------------------------\n",
      "Intercept               6777693789.3063 7201383660.5121   0.9412 0.3466  -7336997513.0518 20892385091.6643\n",
      "covid_death                      0.0168          0.0034   4.8766 0.0000            0.0100           0.0235\n",
      "withdrawn              -1882046445.8445 6559412582.8074  -0.2869 0.7742 -14738476278.7393 10974383387.0503\n",
      "distancing_stress                0.0036          0.0017   2.0804 0.0375            0.0002           0.0070\n",
      "social_interaction              -0.0399          0.0012 -32.8996 0.0000           -0.0423          -0.0376\n",
      "lack_companionship       534953310.7329 3321507588.0393   0.1611 0.8720  -5975192027.1257  7045098648.5915\n",
      "can_find_companionship  3314671982.4308 4209237752.3637   0.7875 0.4310  -4935421929.1913 11564765894.0528\n",
      "gen_health              6633605755.4585 2356950191.4299   2.8145 0.0049   2013990146.1020 11253221364.8150\n",
      "gen_mental_health       4084533673.1521 3083610810.2735   1.3246 0.1853  -1959334663.1906 10128402009.4948\n",
      "gen_social_health      -7082680960.6661 3009668689.8294  -2.3533 0.0186 -12981622953.1961 -1183738968.1361\n",
      "gen_social_satisfac    -7082020289.5928 3009183286.1274  -2.3535 0.0186 -12980010892.2602 -1184029686.9253\n",
      "no_home                         -0.0723          0.0214  -3.3835 0.0007           -0.1141          -0.0304\n",
      "no_meds                         -0.0057          0.0104  -0.5507 0.5818           -0.0262           0.0147\n",
      "no_food                         -0.0754          0.0099  -7.6264 0.0000           -0.0947          -0.0560\n",
      "no_gas                          -0.0648          0.0109  -5.9300 0.0000           -0.0862          -0.0434\n",
      "no_rent                         -0.0231          0.0095  -2.4289 0.0151           -0.0418          -0.0045\n",
      "no_hardship                      0.0653          0.0075   8.7471 0.0000            0.0507           0.0800\n",
      "family_conflict                  0.0046          0.0055   0.8460 0.3975           -0.0061           0.0153\n",
      "family_yelling                  -0.0249          0.0055  -4.5515 0.0000           -0.0357          -0.0142\n",
      "friend_conflict                 -0.0246          0.0062  -3.9682 0.0001           -0.0367          -0.0124\n",
      "no_conflict                     -0.0123          0.0063  -1.9441 0.0519           -0.0246           0.0001\n",
      "age                              0.0019          0.0001  17.9535 0.0000            0.0017           0.0022\n",
      "race_asian                       0.1518          0.0164   9.2516 0.0000            0.1196           0.1839\n",
      "race_black                      -0.1631          0.0145 -11.2785 0.0000           -0.1915          -0.1348\n",
      "race_multiple                    0.0925          0.0170   5.4247 0.0000            0.0591           0.1259\n",
      "race_other                       0.0504          0.0280   1.7997 0.0719           -0.0045           0.1054\n",
      "race_white                       0.1059          0.0134   7.9179 0.0000            0.0797           0.1322\n",
      "ethn_hispanic                   -0.0844          0.0148  -5.6988 0.0000           -0.1135          -0.0554\n",
      "ethn_none_of_these              -0.1121          0.0349  -3.2130 0.0013           -0.1804          -0.0437\n",
      "ethn_not_hispanic               -0.0567          0.0188  -3.0132 0.0026           -0.0936          -0.0198\n",
      "sex_male                         0.0953          0.0178   5.3433 0.0000            0.0603           0.1302\n",
      "gender_male                      0.0050          0.0179   0.2796 0.7798           -0.0301           0.0401\n",
      "----------------------------------------------------------------------------------------------------------\n",
      "Omnibus:                        9728.070                Durbin-Watson:                   1.992            \n",
      "Prob(Omnibus):                  0.000                   Jarque-Bera (JB):                14092.486        \n",
      "Skew:                           -1.080                  Prob(JB):                        0.000            \n",
      "Kurtosis:                       2.752                   Condition No.:                   10336831480297488\n",
      "==========================================================================================================\n",
      "* The condition number is large (1e+16). This might indicate             strong multicollinearity or other\n",
      "numerical problems.\n"
     ]
    }
   ],
   "source": [
    "print(model_ols.summary2())"
   ]
  },
  {
   "cell_type": "code",
   "execution_count": null,
   "id": "9775f281",
   "metadata": {},
   "outputs": [],
   "source": []
  }
 ],
 "metadata": {
  "kernelspec": {
   "display_name": "Python 3 (ipykernel)",
   "language": "python",
   "name": "python3"
  },
  "language_info": {
   "codemirror_mode": {
    "name": "ipython",
    "version": 3
   },
   "file_extension": ".py",
   "mimetype": "text/x-python",
   "name": "python",
   "nbconvert_exporter": "python",
   "pygments_lexer": "ipython3",
   "version": "3.8.12"
  },
  "toc": {
   "base_numbering": 1,
   "nav_menu": {},
   "number_sections": true,
   "sideBar": true,
   "skip_h1_title": false,
   "title_cell": "Table of Contents",
   "title_sidebar": "Contents",
   "toc_cell": false,
   "toc_position": {},
   "toc_section_display": true,
   "toc_window_display": false
  }
 },
 "nbformat": 4,
 "nbformat_minor": 5
}
